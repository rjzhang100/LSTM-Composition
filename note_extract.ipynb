{
 "cells": [
  {
   "cell_type": "code",
   "execution_count": 29,
   "metadata": {},
   "outputs": [],
   "source": [
    "import tensorflow as tf\n",
    "import numpy as np\n",
    "import pretty_midi as midi\n",
    "import os\n",
    "import fluidsynth\n",
    "import matplotlib.pyplot as plt\n",
    "from tensorflow import keras \n",
    "from tensorflow.keras import layers\n",
    "from matplotlib import pyplot as plt\n",
    "import time\n",
    "import pandas as pd"
   ]
  },
  {
   "cell_type": "code",
   "execution_count": 30,
   "metadata": {},
   "outputs": [],
   "source": [
    "TIME_STEPS = 35 \n",
    "MIDI_PITCH_RANGE = 128"
   ]
  },
  {
   "cell_type": "code",
   "execution_count": 31,
   "metadata": {},
   "outputs": [],
   "source": [
    "#midi_data is a list of PrettyMIDI objects\n",
    "midi_data = []\n",
    "directory = \"data\"\n",
    "\n",
    "for filename in os.listdir(directory):\n",
    "    midi_data.append(midi.PrettyMIDI(os.path.join(directory, filename)))\n",
    "    "
   ]
  },
  {
   "cell_type": "code",
   "execution_count": 32,
   "metadata": {},
   "outputs": [
    {
     "data": {
      "text/html": [
       "<div>\n",
       "<style scoped>\n",
       "    .dataframe tbody tr th:only-of-type {\n",
       "        vertical-align: middle;\n",
       "    }\n",
       "\n",
       "    .dataframe tbody tr th {\n",
       "        vertical-align: top;\n",
       "    }\n",
       "\n",
       "    .dataframe thead th {\n",
       "        text-align: right;\n",
       "    }\n",
       "</style>\n",
       "<table border=\"1\" class=\"dataframe\">\n",
       "  <thead>\n",
       "    <tr style=\"text-align: right;\">\n",
       "      <th></th>\n",
       "      <th>Velocities</th>\n",
       "      <th>Pitches</th>\n",
       "      <th>Starts</th>\n",
       "      <th>Ends</th>\n",
       "      <th>Durations</th>\n",
       "    </tr>\n",
       "  </thead>\n",
       "  <tbody>\n",
       "    <tr>\n",
       "      <th>0</th>\n",
       "      <td>80</td>\n",
       "      <td>69</td>\n",
       "      <td>0.980469</td>\n",
       "      <td>1.074219</td>\n",
       "      <td>0.093750</td>\n",
       "    </tr>\n",
       "    <tr>\n",
       "      <th>13697</th>\n",
       "      <td>45</td>\n",
       "      <td>69</td>\n",
       "      <td>0.983073</td>\n",
       "      <td>2.623698</td>\n",
       "      <td>1.640625</td>\n",
       "    </tr>\n",
       "    <tr>\n",
       "      <th>14201</th>\n",
       "      <td>49</td>\n",
       "      <td>68</td>\n",
       "      <td>0.985417</td>\n",
       "      <td>1.478125</td>\n",
       "      <td>0.492708</td>\n",
       "    </tr>\n",
       "    <tr>\n",
       "      <th>3</th>\n",
       "      <td>57</td>\n",
       "      <td>45</td>\n",
       "      <td>0.993490</td>\n",
       "      <td>1.407552</td>\n",
       "      <td>0.414062</td>\n",
       "    </tr>\n",
       "    <tr>\n",
       "      <th>16236</th>\n",
       "      <td>66</td>\n",
       "      <td>67</td>\n",
       "      <td>1.000000</td>\n",
       "      <td>1.104167</td>\n",
       "      <td>0.104167</td>\n",
       "    </tr>\n",
       "    <tr>\n",
       "      <th>...</th>\n",
       "      <td>...</td>\n",
       "      <td>...</td>\n",
       "      <td>...</td>\n",
       "      <td>...</td>\n",
       "      <td>...</td>\n",
       "    </tr>\n",
       "    <tr>\n",
       "      <th>22293</th>\n",
       "      <td>62</td>\n",
       "      <td>37</td>\n",
       "      <td>441.944792</td>\n",
       "      <td>443.887500</td>\n",
       "      <td>1.942708</td>\n",
       "    </tr>\n",
       "    <tr>\n",
       "      <th>22292</th>\n",
       "      <td>74</td>\n",
       "      <td>65</td>\n",
       "      <td>442.621875</td>\n",
       "      <td>443.868750</td>\n",
       "      <td>1.246875</td>\n",
       "    </tr>\n",
       "    <tr>\n",
       "      <th>22295</th>\n",
       "      <td>79</td>\n",
       "      <td>66</td>\n",
       "      <td>443.769792</td>\n",
       "      <td>449.291667</td>\n",
       "      <td>5.521875</td>\n",
       "    </tr>\n",
       "    <tr>\n",
       "      <th>22294</th>\n",
       "      <td>71</td>\n",
       "      <td>54</td>\n",
       "      <td>443.776042</td>\n",
       "      <td>449.029167</td>\n",
       "      <td>5.253125</td>\n",
       "    </tr>\n",
       "    <tr>\n",
       "      <th>22296</th>\n",
       "      <td>58</td>\n",
       "      <td>42</td>\n",
       "      <td>443.794792</td>\n",
       "      <td>449.364583</td>\n",
       "      <td>5.569792</td>\n",
       "    </tr>\n",
       "  </tbody>\n",
       "</table>\n",
       "<p>22297 rows × 5 columns</p>\n",
       "</div>"
      ],
      "text/plain": [
       "       Velocities  Pitches      Starts        Ends  Durations\n",
       "0              80       69    0.980469    1.074219   0.093750\n",
       "13697          45       69    0.983073    2.623698   1.640625\n",
       "14201          49       68    0.985417    1.478125   0.492708\n",
       "3              57       45    0.993490    1.407552   0.414062\n",
       "16236          66       67    1.000000    1.104167   0.104167\n",
       "...           ...      ...         ...         ...        ...\n",
       "22293          62       37  441.944792  443.887500   1.942708\n",
       "22292          74       65  442.621875  443.868750   1.246875\n",
       "22295          79       66  443.769792  449.291667   5.521875\n",
       "22294          71       54  443.776042  449.029167   5.253125\n",
       "22296          58       42  443.794792  449.364583   5.569792\n",
       "\n",
       "[22297 rows x 5 columns]"
      ]
     },
     "execution_count": 32,
     "metadata": {},
     "output_type": "execute_result"
    }
   ],
   "source": [
    "#Pull notes from midi file\n",
    "velocities = []\n",
    "pitches = []\n",
    "starts = []\n",
    "ends = []\n",
    "durations = []\n",
    "#Iterate through all midi objects, pull notes and zip together in a list \n",
    "for midi_obj in midi_data:\n",
    "    piano = midi_obj.instruments[0]\n",
    "    for note in piano.notes:\n",
    "        velocities.append(note.velocity)\n",
    "        pitches.append(note.pitch)\n",
    "        starts.append(note.start)\n",
    "        ends.append(note.end)\n",
    "        durations.append(note.get_duration())\n",
    "\n",
    "note_data_lists = list(zip(velocities, pitches, starts, ends, durations))\n",
    "\n",
    "#Move zipped lists into dataframe and sort by start time so notes are chronological \n",
    "note_data = pd.DataFrame(note_data_lists, columns = ['Velocities', 'Pitches', 'Starts', 'Ends', 'Durations'])\n",
    "note_data.sort_values(by = [\"Starts\"])\n"
   ]
  },
  {
   "cell_type": "code",
   "execution_count": 59,
   "metadata": {},
   "outputs": [],
   "source": [
    "train_data = note_data.to_numpy()\n",
    "train_data = np.delete(train_data, 2, axis = 1)\n",
    "train_data = np.delete(train_data, 3, axis = 1)\n",
    "train_data = train_data[:-2, :]"
   ]
  },
  {
   "cell_type": "code",
   "execution_count": 65,
   "metadata": {},
   "outputs": [],
   "source": [
    "pitches = 128\n",
    "seq_length = 49 \n",
    "num_features = 3"
   ]
  },
  {
   "cell_type": "code",
   "execution_count": 111,
   "metadata": {},
   "outputs": [
    {
     "data": {
      "text/plain": [
       "TensorSpec(shape=(3,), dtype=tf.float64, name=None)"
      ]
     },
     "execution_count": 111,
     "metadata": {},
     "output_type": "execute_result"
    }
   ],
   "source": [
    "init_dataset = tf.data.Dataset.from_tensor_slices(train_data)"
   ]
  },
  {
   "cell_type": "code",
   "execution_count": 118,
   "metadata": {},
   "outputs": [],
   "source": [
    "seq_length = 26\n",
    "windows = init_dataset.window(seq_length, shift = 1, stride = 1, drop_remainder = True)\n",
    "map_func = lambda x : x.batch(seq_length, drop_remainder = True)\n",
    "flattened_init_dataset = windows.flat_map(map_func)"
   ]
  },
  {
   "cell_type": "code",
   "execution_count": 121,
   "metadata": {},
   "outputs": [
    {
     "data": {
      "text/plain": [
       "TensorSpec(shape=(26, 3), dtype=tf.float64, name=None)"
      ]
     },
     "execution_count": 121,
     "metadata": {},
     "output_type": "execute_result"
    }
   ],
   "source": [
    "flattened_init_dataset.element_spec"
   ]
  },
  {
   "cell_type": "code",
   "execution_count": 123,
   "metadata": {},
   "outputs": [
    {
     "ename": "ValueError",
     "evalue": "Attempt to convert a value (<FlatMapDataset element_spec=TensorSpec(shape=(26, 3), dtype=tf.float64, name=None)>) with an unsupported type (<class 'tensorflow.python.data.ops.dataset_ops.FlatMapDataset'>) to a Tensor.",
     "output_type": "error",
     "traceback": [
      "\u001b[0;31m---------------------------------------------------------------------------\u001b[0m",
      "\u001b[0;31mValueError\u001b[0m                                Traceback (most recent call last)",
      "\u001b[1;32m/Users/rayzhang/Desktop/Code/LSTM-Composition/note_extract.ipynb Cell 10\u001b[0m in \u001b[0;36m<cell line: 1>\u001b[0;34m()\u001b[0m\n\u001b[0;32m----> <a href='vscode-notebook-cell:/Users/rayzhang/Desktop/Code/LSTM-Composition/note_extract.ipynb#ch0000009?line=0'>1</a>\u001b[0m inputs \u001b[39m=\u001b[39m tf\u001b[39m.\u001b[39;49mslice(flattened_init_dataset, begin \u001b[39m=\u001b[39;49m [\u001b[39m0\u001b[39;49m], size \u001b[39m=\u001b[39;49m [seq_length])\n",
      "File \u001b[0;32m/opt/anaconda3/envs/gilbert/lib/python3.10/site-packages/tensorflow/python/util/traceback_utils.py:153\u001b[0m, in \u001b[0;36mfilter_traceback.<locals>.error_handler\u001b[0;34m(*args, **kwargs)\u001b[0m\n\u001b[1;32m    151\u001b[0m \u001b[39mexcept\u001b[39;00m \u001b[39mException\u001b[39;00m \u001b[39mas\u001b[39;00m e:\n\u001b[1;32m    152\u001b[0m   filtered_tb \u001b[39m=\u001b[39m _process_traceback_frames(e\u001b[39m.\u001b[39m__traceback__)\n\u001b[0;32m--> 153\u001b[0m   \u001b[39mraise\u001b[39;00m e\u001b[39m.\u001b[39mwith_traceback(filtered_tb) \u001b[39mfrom\u001b[39;00m \u001b[39mNone\u001b[39m\n\u001b[1;32m    154\u001b[0m \u001b[39mfinally\u001b[39;00m:\n\u001b[1;32m    155\u001b[0m   \u001b[39mdel\u001b[39;00m filtered_tb\n",
      "File \u001b[0;32m/opt/anaconda3/envs/gilbert/lib/python3.10/site-packages/tensorflow/python/framework/constant_op.py:102\u001b[0m, in \u001b[0;36mconvert_to_eager_tensor\u001b[0;34m(value, ctx, dtype)\u001b[0m\n\u001b[1;32m    100\u001b[0m     dtype \u001b[39m=\u001b[39m dtypes\u001b[39m.\u001b[39mas_dtype(dtype)\u001b[39m.\u001b[39mas_datatype_enum\n\u001b[1;32m    101\u001b[0m ctx\u001b[39m.\u001b[39mensure_initialized()\n\u001b[0;32m--> 102\u001b[0m \u001b[39mreturn\u001b[39;00m ops\u001b[39m.\u001b[39;49mEagerTensor(value, ctx\u001b[39m.\u001b[39;49mdevice_name, dtype)\n",
      "\u001b[0;31mValueError\u001b[0m: Attempt to convert a value (<FlatMapDataset element_spec=TensorSpec(shape=(26, 3), dtype=tf.float64, name=None)>) with an unsupported type (<class 'tensorflow.python.data.ops.dataset_ops.FlatMapDataset'>) to a Tensor."
     ]
    }
   ],
   "source": []
  },
  {
   "cell_type": "code",
   "execution_count": 109,
   "metadata": {},
   "outputs": [
    {
     "ename": "AttributeError",
     "evalue": "'tensorflow.python.framework.ops.EagerTensor' object has no attribute 'element_spec'",
     "output_type": "error",
     "traceback": [
      "\u001b[0;31m---------------------------------------------------------------------------\u001b[0m",
      "\u001b[0;31mAttributeError\u001b[0m                            Traceback (most recent call last)",
      "\u001b[1;32m/Users/rayzhang/Desktop/Code/LSTM-Composition/note_extract.ipynb Cell 11\u001b[0m in \u001b[0;36m<cell line: 2>\u001b[0;34m()\u001b[0m\n\u001b[1;32m      <a href='vscode-notebook-cell:/Users/rayzhang/Desktop/Code/LSTM-Composition/note_extract.ipynb#ch0000011?line=0'>1</a>\u001b[0m train_tensor \u001b[39m=\u001b[39m tf\u001b[39m.\u001b[39mconvert_to_tensor(in_samp)\n\u001b[0;32m----> <a href='vscode-notebook-cell:/Users/rayzhang/Desktop/Code/LSTM-Composition/note_extract.ipynb#ch0000011?line=1'>2</a>\u001b[0m train_tensor\u001b[39m.\u001b[39;49melement_spec\n",
      "File \u001b[0;32m/opt/anaconda3/envs/gilbert/lib/python3.10/site-packages/tensorflow/python/framework/ops.py:446\u001b[0m, in \u001b[0;36mTensor.__getattr__\u001b[0;34m(self, name)\u001b[0m\n\u001b[1;32m    437\u001b[0m \u001b[39mif\u001b[39;00m name \u001b[39min\u001b[39;00m {\u001b[39m\"\u001b[39m\u001b[39mT\u001b[39m\u001b[39m\"\u001b[39m, \u001b[39m\"\u001b[39m\u001b[39mastype\u001b[39m\u001b[39m\"\u001b[39m, \u001b[39m\"\u001b[39m\u001b[39mravel\u001b[39m\u001b[39m\"\u001b[39m, \u001b[39m\"\u001b[39m\u001b[39mtranspose\u001b[39m\u001b[39m\"\u001b[39m, \u001b[39m\"\u001b[39m\u001b[39mreshape\u001b[39m\u001b[39m\"\u001b[39m, \u001b[39m\"\u001b[39m\u001b[39mclip\u001b[39m\u001b[39m\"\u001b[39m, \u001b[39m\"\u001b[39m\u001b[39msize\u001b[39m\u001b[39m\"\u001b[39m,\n\u001b[1;32m    438\u001b[0m             \u001b[39m\"\u001b[39m\u001b[39mtolist\u001b[39m\u001b[39m\"\u001b[39m, \u001b[39m\"\u001b[39m\u001b[39mdata\u001b[39m\u001b[39m\"\u001b[39m}:\n\u001b[1;32m    439\u001b[0m   \u001b[39m# TODO(wangpeng): Export the enable_numpy_behavior knob\u001b[39;00m\n\u001b[1;32m    440\u001b[0m   \u001b[39mraise\u001b[39;00m \u001b[39mAttributeError\u001b[39;00m(\n\u001b[1;32m    441\u001b[0m       \u001b[39mf\u001b[39m\u001b[39m\"\u001b[39m\u001b[39m{\u001b[39;00m\u001b[39mtype\u001b[39m(\u001b[39mself\u001b[39m)\u001b[39m.\u001b[39m\u001b[39m__name__\u001b[39m\u001b[39m}\u001b[39;00m\u001b[39m object has no attribute \u001b[39m\u001b[39m'\u001b[39m\u001b[39m{\u001b[39;00mname\u001b[39m}\u001b[39;00m\u001b[39m'\u001b[39m\u001b[39m. \u001b[39m\u001b[39m\"\u001b[39m \u001b[39m+\u001b[39m \u001b[39m\"\"\"\u001b[39m\n\u001b[1;32m    442\u001b[0m \u001b[39m    If you are looking for numpy-related methods, please run the following:\u001b[39m\n\u001b[1;32m    443\u001b[0m \u001b[39m    from tensorflow.python.ops.numpy_ops import np_config\u001b[39m\n\u001b[1;32m    444\u001b[0m \u001b[39m    np_config.enable_numpy_behavior()\u001b[39m\n\u001b[1;32m    445\u001b[0m \u001b[39m  \u001b[39m\u001b[39m\"\"\"\u001b[39m)\n\u001b[0;32m--> 446\u001b[0m \u001b[39mself\u001b[39;49m\u001b[39m.\u001b[39;49m\u001b[39m__getattribute__\u001b[39;49m(name)\n",
      "\u001b[0;31mAttributeError\u001b[0m: 'tensorflow.python.framework.ops.EagerTensor' object has no attribute 'element_spec'"
     ]
    }
   ],
   "source": []
  },
  {
   "cell_type": "code",
   "execution_count": null,
   "metadata": {},
   "outputs": [],
   "source": []
  }
 ],
 "metadata": {
  "kernelspec": {
   "display_name": "Python 3.10.4 ('gilbert')",
   "language": "python",
   "name": "python3"
  },
  "language_info": {
   "codemirror_mode": {
    "name": "ipython",
    "version": 3
   },
   "file_extension": ".py",
   "mimetype": "text/x-python",
   "name": "python",
   "nbconvert_exporter": "python",
   "pygments_lexer": "ipython3",
   "version": "3.10.4"
  },
  "orig_nbformat": 4,
  "vscode": {
   "interpreter": {
    "hash": "f3e0dbdab9ae6bc40b482f579ffcb0969ca4121db67304f38c6d13479eb2c164"
   }
  }
 },
 "nbformat": 4,
 "nbformat_minor": 2
}
