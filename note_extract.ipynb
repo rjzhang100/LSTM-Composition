{
 "cells": [
  {
   "cell_type": "code",
   "execution_count": 89,
   "metadata": {},
   "outputs": [],
   "source": [
    "import tensorflow as tf\n",
    "import numpy as np\n",
    "import pretty_midi as midi\n",
    "import os\n",
    "import fluidsynth\n",
    "import matplotlib.pyplot as plt\n",
    "from tensorflow import keras \n",
    "from tensorflow.keras import layers\n",
    "from matplotlib import pyplot as plt\n",
    "import time\n",
    "import pandas as pd"
   ]
  },
  {
   "cell_type": "code",
   "execution_count": 91,
   "metadata": {},
   "outputs": [],
   "source": [
    "#midi_data is a list of PrettyMIDI objects\n",
    "midi_data = []\n",
    "directory = \"data\"\n",
    "\n",
    "for filename in os.listdir(directory):\n",
    "    midi_data.append(midi.PrettyMIDI(os.path.join(directory, filename)))\n",
    "    "
   ]
  },
  {
   "cell_type": "code",
   "execution_count": 142,
   "metadata": {},
   "outputs": [
    {
     "data": {
      "text/html": [
       "<div>\n",
       "<style scoped>\n",
       "    .dataframe tbody tr th:only-of-type {\n",
       "        vertical-align: middle;\n",
       "    }\n",
       "\n",
       "    .dataframe tbody tr th {\n",
       "        vertical-align: top;\n",
       "    }\n",
       "\n",
       "    .dataframe thead th {\n",
       "        text-align: right;\n",
       "    }\n",
       "</style>\n",
       "<table border=\"1\" class=\"dataframe\">\n",
       "  <thead>\n",
       "    <tr style=\"text-align: right;\">\n",
       "      <th></th>\n",
       "      <th>Velocities</th>\n",
       "      <th>Pitches</th>\n",
       "      <th>Starts</th>\n",
       "      <th>Ends</th>\n",
       "      <th>Durations</th>\n",
       "      <th>Steps</th>\n",
       "    </tr>\n",
       "  </thead>\n",
       "  <tbody>\n",
       "    <tr>\n",
       "      <th>0</th>\n",
       "      <td>80</td>\n",
       "      <td>69</td>\n",
       "      <td>0.980469</td>\n",
       "      <td>1.074219</td>\n",
       "      <td>0.093750</td>\n",
       "      <td>0.000000</td>\n",
       "    </tr>\n",
       "    <tr>\n",
       "      <th>1</th>\n",
       "      <td>57</td>\n",
       "      <td>45</td>\n",
       "      <td>0.993490</td>\n",
       "      <td>1.407552</td>\n",
       "      <td>0.414062</td>\n",
       "      <td>0.013021</td>\n",
       "    </tr>\n",
       "    <tr>\n",
       "      <th>2</th>\n",
       "      <td>72</td>\n",
       "      <td>71</td>\n",
       "      <td>1.065104</td>\n",
       "      <td>1.199219</td>\n",
       "      <td>0.134115</td>\n",
       "      <td>0.071615</td>\n",
       "    </tr>\n",
       "    <tr>\n",
       "      <th>3</th>\n",
       "      <td>69</td>\n",
       "      <td>72</td>\n",
       "      <td>1.188802</td>\n",
       "      <td>1.261719</td>\n",
       "      <td>0.072917</td>\n",
       "      <td>0.123698</td>\n",
       "    </tr>\n",
       "    <tr>\n",
       "      <th>4</th>\n",
       "      <td>73</td>\n",
       "      <td>76</td>\n",
       "      <td>1.437500</td>\n",
       "      <td>1.519531</td>\n",
       "      <td>0.082031</td>\n",
       "      <td>0.248698</td>\n",
       "    </tr>\n",
       "    <tr>\n",
       "      <th>...</th>\n",
       "      <td>...</td>\n",
       "      <td>...</td>\n",
       "      <td>...</td>\n",
       "      <td>...</td>\n",
       "      <td>...</td>\n",
       "      <td>...</td>\n",
       "    </tr>\n",
       "    <tr>\n",
       "      <th>22292</th>\n",
       "      <td>62</td>\n",
       "      <td>37</td>\n",
       "      <td>441.944792</td>\n",
       "      <td>443.887500</td>\n",
       "      <td>1.942708</td>\n",
       "      <td>0.022917</td>\n",
       "    </tr>\n",
       "    <tr>\n",
       "      <th>22293</th>\n",
       "      <td>74</td>\n",
       "      <td>65</td>\n",
       "      <td>442.621875</td>\n",
       "      <td>443.868750</td>\n",
       "      <td>1.246875</td>\n",
       "      <td>0.677083</td>\n",
       "    </tr>\n",
       "    <tr>\n",
       "      <th>22294</th>\n",
       "      <td>79</td>\n",
       "      <td>66</td>\n",
       "      <td>443.769792</td>\n",
       "      <td>449.291667</td>\n",
       "      <td>5.521875</td>\n",
       "      <td>1.147917</td>\n",
       "    </tr>\n",
       "    <tr>\n",
       "      <th>22295</th>\n",
       "      <td>71</td>\n",
       "      <td>54</td>\n",
       "      <td>443.776042</td>\n",
       "      <td>449.029167</td>\n",
       "      <td>5.253125</td>\n",
       "      <td>0.006250</td>\n",
       "    </tr>\n",
       "    <tr>\n",
       "      <th>22296</th>\n",
       "      <td>58</td>\n",
       "      <td>42</td>\n",
       "      <td>443.794792</td>\n",
       "      <td>449.364583</td>\n",
       "      <td>5.569792</td>\n",
       "      <td>0.018750</td>\n",
       "    </tr>\n",
       "  </tbody>\n",
       "</table>\n",
       "<p>22297 rows × 6 columns</p>\n",
       "</div>"
      ],
      "text/plain": [
       "       Velocities  Pitches      Starts        Ends  Durations     Steps\n",
       "0              80       69    0.980469    1.074219   0.093750  0.000000\n",
       "1              57       45    0.993490    1.407552   0.414062  0.013021\n",
       "2              72       71    1.065104    1.199219   0.134115  0.071615\n",
       "3              69       72    1.188802    1.261719   0.072917  0.123698\n",
       "4              73       76    1.437500    1.519531   0.082031  0.248698\n",
       "...           ...      ...         ...         ...        ...       ...\n",
       "22292          62       37  441.944792  443.887500   1.942708  0.022917\n",
       "22293          74       65  442.621875  443.868750   1.246875  0.677083\n",
       "22294          79       66  443.769792  449.291667   5.521875  1.147917\n",
       "22295          71       54  443.776042  449.029167   5.253125  0.006250\n",
       "22296          58       42  443.794792  449.364583   5.569792  0.018750\n",
       "\n",
       "[22297 rows x 6 columns]"
      ]
     },
     "execution_count": 142,
     "metadata": {},
     "output_type": "execute_result"
    }
   ],
   "source": [
    "#Pull notes from midi file\n",
    "velocities = []\n",
    "pitches = []\n",
    "starts = []\n",
    "ends = []\n",
    "durations = []\n",
    "steps = []\n",
    "#Iterate through all midi objects, pull notes and zip together in a list \n",
    "for midi_obj in midi_data:\n",
    "    piano = sorted(midi_obj.instruments[0].notes, key = lambda note: note.start)\n",
    "    prev_start = piano[0].start\n",
    "    for note in piano:\n",
    "        velocities.append(note.velocity)\n",
    "        pitches.append(note.pitch)\n",
    "        starts.append(note.start)\n",
    "        ends.append(note.end)\n",
    "        durations.append(note.get_duration())\n",
    "        steps.append(note.start - prev_start)\n",
    "        prev_start = note.start\n",
    "\n",
    "\n",
    "note_data_lists = list(zip(velocities, pitches, starts, ends, durations, steps))\n",
    "\n",
    "#Move zipped lists into dataframe and sort by start time so notes are chronological \n",
    "note_data = pd.DataFrame(note_data_lists, columns = ['Velocities', 'Pitches', 'Starts', 'Ends', 'Durations', 'Steps'])\n",
    "note_data\n"
   ]
  },
  {
   "cell_type": "code",
   "execution_count": 126,
   "metadata": {},
   "outputs": [
    {
     "data": {
      "text/plain": [
       "(22297, 4)"
      ]
     },
     "execution_count": 126,
     "metadata": {},
     "output_type": "execute_result"
    }
   ],
   "source": [
    "train_data = note_data.to_numpy()\n",
    "train_data = np.delete(train_data, 2, axis = 1)\n",
    "train_data = np.delete(train_data, 3, axis = 1)\n"
   ]
  },
  {
   "cell_type": "code",
   "execution_count": 133,
   "metadata": {},
   "outputs": [],
   "source": [
    "pitches = 128\n",
    "num_features = 4"
   ]
  },
  {
   "cell_type": "code",
   "execution_count": 134,
   "metadata": {},
   "outputs": [
    {
     "data": {
      "text/plain": [
       "TensorSpec(shape=(4,), dtype=tf.float64, name=None)"
      ]
     },
     "execution_count": 134,
     "metadata": {},
     "output_type": "execute_result"
    }
   ],
   "source": [
    "init_dataset = tf.data.Dataset.from_tensor_slices(train_data)\n",
    "init_dataset.element_spec"
   ]
  },
  {
   "cell_type": "code",
   "execution_count": 135,
   "metadata": {},
   "outputs": [
    {
     "data": {
      "text/plain": [
       "TensorSpec(shape=(26, 4), dtype=tf.float64, name=None)"
      ]
     },
     "execution_count": 135,
     "metadata": {},
     "output_type": "execute_result"
    }
   ],
   "source": [
    "seq_length = 25\n",
    "windows = init_dataset.window(seq_length + 1, shift = 1, stride = 1, drop_remainder = True)\n",
    "map_func = lambda x : x.batch(seq_length + 1, drop_remainder = True)\n",
    "flattened_init_dataset = windows.flat_map(map_func)"
   ]
  },
  {
   "cell_type": "code",
   "execution_count": 130,
   "metadata": {},
   "outputs": [],
   "source": [
    "def label_make(x):\n",
    "    input_data = x[:-1]\n",
    "    label_value = x[-1]\n",
    "    label_dict = {\n",
    "        key : label_value[i] for i, key in enumerate(['Velocity', 'Pitch', 'Duration', 'Step'])\n",
    "    }\n",
    "    return input_data, label_dict\n"
   ]
  },
  {
   "cell_type": "code",
   "execution_count": 136,
   "metadata": {},
   "outputs": [],
   "source": [
    "nonbatched_indata = flattened_init_dataset.map(label_make, num_parallel_calls = tf.data.AUTOTUNE)"
   ]
  },
  {
   "cell_type": "code",
   "execution_count": 137,
   "metadata": {},
   "outputs": [
    {
     "data": {
      "text/plain": [
       "(TensorSpec(shape=(64, 25, 4), dtype=tf.float64, name=None),\n",
       " {'Velocity': TensorSpec(shape=(64,), dtype=tf.float64, name=None),\n",
       "  'Pitch': TensorSpec(shape=(64,), dtype=tf.float64, name=None),\n",
       "  'Duration': TensorSpec(shape=(64,), dtype=tf.float64, name=None),\n",
       "  'Step': TensorSpec(shape=(64,), dtype=tf.float64, name=None)})"
      ]
     },
     "execution_count": 137,
     "metadata": {},
     "output_type": "execute_result"
    }
   ],
   "source": [
    "batch_size = 64\n",
    "#Shuffle populates a buffer of defined size with dataset and randomly samples it to shuffle examples \n",
    "#Batch takes dataset and divides into batches of specified size \n",
    "#Cache, assuming complete iteration of dataset, will cache the values and use cached data for further iteration \n",
    "#Prefetch allows for faster processing of data by preprocessing future elements while simultaneously processing currnet \n",
    "    # - Autotune parameter allows tensorflow to dynamically adjust buffer size for prefetch  as necessary\n",
    "batched_indata = (nonbatched_indata\n",
    "                    .shuffle(len(note_data))\n",
    "                    .batch(batch_size, drop_remainder = True)\n",
    "                    .cache()\n",
    "                    .prefetch(tf.data.AUTOTUNE)\n",
    "                )\n",
    "\n",
    "batched_indata.element_spec"
   ]
  },
  {
   "cell_type": "code",
   "execution_count": 141,
   "metadata": {},
   "outputs": [
    {
     "name": "stdout",
     "output_type": "stream",
     "text": [
      "Model: \"Chad\"\n",
      "__________________________________________________________________________________________________\n",
      " Layer (type)                   Output Shape         Param #     Connected to                     \n",
      "==================================================================================================\n",
      " input_21 (InputLayer)          [(None, 25, 4)]      0           []                               \n",
      "                                                                                                  \n",
      " lstm_20 (LSTM)                 (None, 128)          68096       ['input_21[0][0]']               \n",
      "                                                                                                  \n",
      " duration (Dense)               (None, 1)            129         ['lstm_20[0][0]']                \n",
      "                                                                                                  \n",
      " pitch (Dense)                  (None, 128)          16512       ['lstm_20[0][0]']                \n",
      "                                                                                                  \n",
      " step (Dense)                   (None, 1)            129         ['lstm_20[0][0]']                \n",
      "                                                                                                  \n",
      " velocity (Dense)               (None, 128)          16512       ['lstm_20[0][0]']                \n",
      "                                                                                                  \n",
      "==================================================================================================\n",
      "Total params: 101,378\n",
      "Trainable params: 101,378\n",
      "Non-trainable params: 0\n",
      "__________________________________________________________________________________________________\n"
     ]
    }
   ],
   "source": [
    "input_shape = (seq_length, 4)\n",
    "alpha = 0.003\n",
    "\n",
    "\n",
    "inputs = tf.keras.Input(input_shape)\n",
    "x = tf.keras.layers.LSTM(128)(inputs)\n",
    "\n",
    "#Build LSTM network with Keras Functional API\n",
    "\n",
    "outputs = {\n",
    "    'velocity': tf.keras.layers.Dense(128, name = 'velocity')(x),\n",
    "    'pitch': tf.keras.layers.Dense(128, name = 'pitch')(x),\n",
    "    'duration': tf.keras.layers.Dense(1, name = 'duration')(x),\n",
    "    'step': tf.keras.layers.Dense(1, name = 'step')(x)\n",
    "}\n",
    "\n",
    "model = tf.keras.Model(inputs, outputs, name = 'Chad')\n",
    "\n",
    "loss = {\n",
    "    'velocity': tf.keras.losses.SparseCategoricalCrossentropy(from_logits = True),\n",
    "    'pitch': tf.keras.losses.SparseCategoricalCrossentropy(from_logits = True),\n",
    "    'duration': tf.keras.losses.MeanSquaredError(),\n",
    "    'step': tf.keras.losses.MeanSquaredError()\n",
    "}\n",
    "\n",
    "model.compile(\n",
    "            loss = loss, \n",
    "            loss_weights = {\n",
    "                'pitch': 0.05,\n",
    "                'velocity': 1,\n",
    "                'duration': 1,\n",
    "                'step': 1\n",
    "            },\n",
    "            optimizer = tf.keras.optimizers.Adam(learning_rate = alpha)\n",
    "        )\n",
    "        \n",
    "model.summary()\n"
   ]
  },
  {
   "cell_type": "code",
   "execution_count": 139,
   "metadata": {},
   "outputs": [
    {
     "ename": "ValueError",
     "evalue": "in user code:\n\n    File \"/opt/anaconda3/envs/gilbert/lib/python3.10/site-packages/keras/engine/training.py\", line 1557, in test_function  *\n        return step_function(self, iterator)\n    File \"/opt/anaconda3/envs/gilbert/lib/python3.10/site-packages/keras/engine/training.py\", line 1546, in step_function  **\n        outputs = model.distribute_strategy.run(run_step, args=(data,))\n    File \"/opt/anaconda3/envs/gilbert/lib/python3.10/site-packages/keras/engine/training.py\", line 1535, in run_step  **\n        outputs = model.test_step(data)\n    File \"/opt/anaconda3/envs/gilbert/lib/python3.10/site-packages/keras/engine/training.py\", line 1502, in test_step\n        return self.compute_metrics(x, y, y_pred, sample_weight)\n    File \"/opt/anaconda3/envs/gilbert/lib/python3.10/site-packages/keras/engine/training.py\", line 987, in compute_metrics\n        self.compiled_metrics.update_state(y, y_pred, sample_weight)\n    File \"/opt/anaconda3/envs/gilbert/lib/python3.10/site-packages/keras/engine/compile_utils.py\", line 480, in update_state\n        self.build(y_pred, y_true)\n    File \"/opt/anaconda3/envs/gilbert/lib/python3.10/site-packages/keras/engine/compile_utils.py\", line 393, in build\n        self._metrics = tf.__internal__.nest.map_structure_up_to(\n\n    ValueError: The two structures don't have the same sequence length. Input structure has length 8, while shallow structure has length 4.\n",
     "output_type": "error",
     "traceback": [
      "\u001b[0;31m---------------------------------------------------------------------------\u001b[0m",
      "\u001b[0;31mValueError\u001b[0m                                Traceback (most recent call last)",
      "\u001b[1;32m/Users/rayzhang/Desktop/Code/LSTM-Composition/note_extract.ipynb Cell 12\u001b[0m in \u001b[0;36m<cell line: 1>\u001b[0;34m()\u001b[0m\n\u001b[0;32m----> <a href='vscode-notebook-cell:/Users/rayzhang/Desktop/Code/LSTM-Composition/note_extract.ipynb#ch0000021?line=0'>1</a>\u001b[0m model\u001b[39m.\u001b[39;49mevaluate(batched_indata, return_dict \u001b[39m=\u001b[39;49m \u001b[39mTrue\u001b[39;49;00m)\n",
      "File \u001b[0;32m/opt/anaconda3/envs/gilbert/lib/python3.10/site-packages/keras/utils/traceback_utils.py:67\u001b[0m, in \u001b[0;36mfilter_traceback.<locals>.error_handler\u001b[0;34m(*args, **kwargs)\u001b[0m\n\u001b[1;32m     65\u001b[0m \u001b[39mexcept\u001b[39;00m \u001b[39mException\u001b[39;00m \u001b[39mas\u001b[39;00m e:  \u001b[39m# pylint: disable=broad-except\u001b[39;00m\n\u001b[1;32m     66\u001b[0m   filtered_tb \u001b[39m=\u001b[39m _process_traceback_frames(e\u001b[39m.\u001b[39m__traceback__)\n\u001b[0;32m---> 67\u001b[0m   \u001b[39mraise\u001b[39;00m e\u001b[39m.\u001b[39mwith_traceback(filtered_tb) \u001b[39mfrom\u001b[39;00m \u001b[39mNone\u001b[39m\n\u001b[1;32m     68\u001b[0m \u001b[39mfinally\u001b[39;00m:\n\u001b[1;32m     69\u001b[0m   \u001b[39mdel\u001b[39;00m filtered_tb\n",
      "File \u001b[0;32m/var/folders/j0/jhrwgw417kl9p0pc756lz9_00000gn/T/__autograph_generated_fileqv54ix4s.py:15\u001b[0m, in \u001b[0;36mouter_factory.<locals>.inner_factory.<locals>.tf__test_function\u001b[0;34m(iterator)\u001b[0m\n\u001b[1;32m     13\u001b[0m \u001b[39mtry\u001b[39;00m:\n\u001b[1;32m     14\u001b[0m     do_return \u001b[39m=\u001b[39m \u001b[39mTrue\u001b[39;00m\n\u001b[0;32m---> 15\u001b[0m     retval_ \u001b[39m=\u001b[39m ag__\u001b[39m.\u001b[39mconverted_call(ag__\u001b[39m.\u001b[39mld(step_function), (ag__\u001b[39m.\u001b[39mld(\u001b[39mself\u001b[39m), ag__\u001b[39m.\u001b[39mld(iterator)), \u001b[39mNone\u001b[39;00m, fscope)\n\u001b[1;32m     16\u001b[0m \u001b[39mexcept\u001b[39;00m:\n\u001b[1;32m     17\u001b[0m     do_return \u001b[39m=\u001b[39m \u001b[39mFalse\u001b[39;00m\n",
      "\u001b[0;31mValueError\u001b[0m: in user code:\n\n    File \"/opt/anaconda3/envs/gilbert/lib/python3.10/site-packages/keras/engine/training.py\", line 1557, in test_function  *\n        return step_function(self, iterator)\n    File \"/opt/anaconda3/envs/gilbert/lib/python3.10/site-packages/keras/engine/training.py\", line 1546, in step_function  **\n        outputs = model.distribute_strategy.run(run_step, args=(data,))\n    File \"/opt/anaconda3/envs/gilbert/lib/python3.10/site-packages/keras/engine/training.py\", line 1535, in run_step  **\n        outputs = model.test_step(data)\n    File \"/opt/anaconda3/envs/gilbert/lib/python3.10/site-packages/keras/engine/training.py\", line 1502, in test_step\n        return self.compute_metrics(x, y, y_pred, sample_weight)\n    File \"/opt/anaconda3/envs/gilbert/lib/python3.10/site-packages/keras/engine/training.py\", line 987, in compute_metrics\n        self.compiled_metrics.update_state(y, y_pred, sample_weight)\n    File \"/opt/anaconda3/envs/gilbert/lib/python3.10/site-packages/keras/engine/compile_utils.py\", line 480, in update_state\n        self.build(y_pred, y_true)\n    File \"/opt/anaconda3/envs/gilbert/lib/python3.10/site-packages/keras/engine/compile_utils.py\", line 393, in build\n        self._metrics = tf.__internal__.nest.map_structure_up_to(\n\n    ValueError: The two structures don't have the same sequence length. Input structure has length 8, while shallow structure has length 4.\n"
     ]
    }
   ],
   "source": [
    "model.evaluate(batched_indata, return_dict = True)"
   ]
  },
  {
   "cell_type": "code",
   "execution_count": 119,
   "metadata": {},
   "outputs": [],
   "source": [
    "callbacks = [\n",
    "    tf.keras.callbacks.ModelCheckpoint(\n",
    "        filepath='./training_checkpoints/ckpt_{epoch}',\n",
    "        save_weights_only=True),\n",
    "    tf.keras.callbacks.EarlyStopping(\n",
    "        monitor='loss',\n",
    "        patience=5,\n",
    "        verbose=1,\n",
    "        restore_best_weights=True),\n",
    "]"
   ]
  },
  {
   "cell_type": "code",
   "execution_count": null,
   "metadata": {},
   "outputs": [],
   "source": []
  }
 ],
 "metadata": {
  "kernelspec": {
   "display_name": "Python 3.10.4 ('gilbert')",
   "language": "python",
   "name": "python3"
  },
  "language_info": {
   "codemirror_mode": {
    "name": "ipython",
    "version": 3
   },
   "file_extension": ".py",
   "mimetype": "text/x-python",
   "name": "python",
   "nbconvert_exporter": "python",
   "pygments_lexer": "ipython3",
   "version": "3.10.4"
  },
  "orig_nbformat": 4,
  "vscode": {
   "interpreter": {
    "hash": "f3e0dbdab9ae6bc40b482f579ffcb0969ca4121db67304f38c6d13479eb2c164"
   }
  }
 },
 "nbformat": 4,
 "nbformat_minor": 2
}
