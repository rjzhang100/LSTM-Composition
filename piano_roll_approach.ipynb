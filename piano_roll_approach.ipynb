{
 "cells": [
  {
   "cell_type": "code",
   "execution_count": 4,
   "metadata": {},
   "outputs": [],
   "source": [
    "import tensorflow as tf\n",
    "import numpy as np\n",
    "import pretty_midi as midi\n",
    "import os\n",
    "import matplotlib.pyplot as plt\n",
    "from tensorflow import keras \n",
    "from tensorflow.keras import layers\n",
    "from matplotlib import pyplot as plt\n",
    "import time"
   ]
  },
  {
   "cell_type": "code",
   "execution_count": 3,
   "metadata": {},
   "outputs": [],
   "source": [
    "TIME_STEPS = 35 \n",
    "MIDI_PITCH_RANGE = 128"
   ]
  },
  {
   "cell_type": "code",
   "execution_count": 6,
   "metadata": {},
   "outputs": [],
   "source": [
    "midi_data = []\n",
    "directory = \"data\"\n",
    "\n",
    "for filename in os.listdir(directory):\n",
    "    midi_data.append(midi.PrettyMIDI(os.path.join(directory, filename)))"
   ]
  },
  {
   "cell_type": "code",
   "execution_count": 7,
   "metadata": {},
   "outputs": [],
   "source": [
    "comb_rolls = np.zeros((MIDI_PITCH_RANGE, 1))\n",
    "for elem in midi_data:\n",
    "    comb_rolls = np.hstack((comb_rolls, elem.get_piano_roll()))\n",
    "\n",
    "\n",
    "comb_rolls = np.delete(comb_rolls, 0, axis = 1)\n"
   ]
  },
  {
   "cell_type": "code",
   "execution_count": 8,
   "metadata": {},
   "outputs": [],
   "source": [
    "prev_sample = 0\n",
    "next_sample = TIME_STEPS\n",
    "\n",
    "in_samp = np.zeros((MIDI_PITCH_RANGE, TIME_STEPS, 1))\n",
    "trgt_samp = np.zeros(MIDI_PITCH_RANGE)\n",
    "\n",
    "while next_sample < comb_rolls.shape[1]:\n",
    "    in_samp = np.dstack((in_samp, comb_rolls[:, prev_sample:next_sample]))\n",
    "    trgt_samp = np.vstack((trgt_samp, comb_rolls[:, next_sample].T))\n",
    "    prev_sample = next_sample\n",
    "    next_sample += TIME_STEPS\n",
    "\n",
    "#\n",
    "in_samp = np.delete(in_samp, 0, axis=2)\n",
    "in_samp = np.swapaxes(in_samp, 0, 2)\n",
    "trgt_samp = np.delete(trgt_samp, 0, axis=0)\n",
    "\n"
   ]
  },
  {
   "cell_type": "code",
   "execution_count": 9,
   "metadata": {},
   "outputs": [
    {
     "name": "stdout",
     "output_type": "stream",
     "text": [
      "(8976, 35, 128) (8976, 128)\n"
     ]
    }
   ],
   "source": [
    "print(in_samp.shape,trgt_samp.shape)\n",
    "\n"
   ]
  },
  {
   "cell_type": "code",
   "execution_count": 20,
   "metadata": {},
   "outputs": [],
   "source": [
    "input_dim = 128 \n",
    "output_size = 128 \n",
    "dropout_rate = 0.03\n",
    "\n",
    "model = keras.Sequential()\n",
    "model.add(layers.LSTM(128, input_dim = input_dim, return_sequences=True))\n",
    "model.add(layers.Dropout(dropout_rate))\n",
    "model.add(layers.LSTM(128, input_dim = input_dim, return_sequences=True))\n",
    "model.add(layers.Dropout(dropout_rate))\n",
    "model.add(layers.LSTM(128, input_dim = input_dim))\n",
    "model.add(layers.Dense(units = output_size))\n",
    "model.add(layers.Dropout(dropout_rate))\n",
    "model.add(layers.Dense(units = output_size))\n",
    "model.add(layers.Activation('softmax'))\n",
    "model.compile(optimizer = 'Adam', loss='categorical_crossentropy', metrics = ['accuracy'])\n",
    "\n",
    "\n"
   ]
  },
  {
   "cell_type": "code",
   "execution_count": 21,
   "metadata": {},
   "outputs": [
    {
     "name": "stdout",
     "output_type": "stream",
     "text": [
      "Epoch 1/500\n"
     ]
    },
    {
     "name": "stderr",
     "output_type": "stream",
     "text": [
      "2022-09-08 12:02:56.517522: I tensorflow/core/grappler/optimizers/custom_graph_optimizer_registry.cc:113] Plugin optimizer for device_type GPU is enabled.\n",
      "2022-09-08 12:02:57.346693: I tensorflow/core/grappler/optimizers/custom_graph_optimizer_registry.cc:113] Plugin optimizer for device_type GPU is enabled.\n",
      "2022-09-08 12:02:57.500141: I tensorflow/core/grappler/optimizers/custom_graph_optimizer_registry.cc:113] Plugin optimizer for device_type GPU is enabled.\n",
      "2022-09-08 12:02:58.099988: I tensorflow/core/grappler/optimizers/custom_graph_optimizer_registry.cc:113] Plugin optimizer for device_type GPU is enabled.\n",
      "2022-09-08 12:02:59.017092: I tensorflow/core/grappler/optimizers/custom_graph_optimizer_registry.cc:113] Plugin optimizer for device_type GPU is enabled.\n",
      "2022-09-08 12:02:59.589870: I tensorflow/core/grappler/optimizers/custom_graph_optimizer_registry.cc:113] Plugin optimizer for device_type GPU is enabled.\n",
      "2022-09-08 12:02:59.765147: I tensorflow/core/grappler/optimizers/custom_graph_optimizer_registry.cc:113] Plugin optimizer for device_type GPU is enabled.\n"
     ]
    },
    {
     "name": "stdout",
     "output_type": "stream",
     "text": [
      "1/1 [==============================] - ETA: 0s - loss: 846.9835 - accuracy: 0.0053"
     ]
    },
    {
     "name": "stderr",
     "output_type": "stream",
     "text": [
      "2022-09-08 12:03:02.176448: I tensorflow/core/grappler/optimizers/custom_graph_optimizer_registry.cc:113] Plugin optimizer for device_type GPU is enabled.\n",
      "2022-09-08 12:03:02.346799: I tensorflow/core/grappler/optimizers/custom_graph_optimizer_registry.cc:113] Plugin optimizer for device_type GPU is enabled.\n"
     ]
    },
    {
     "name": "stdout",
     "output_type": "stream",
     "text": [
      "1/1 [==============================] - 8s 8s/step - loss: 846.9835 - accuracy: 0.0053 - val_loss: 1052.7426 - val_accuracy: 0.0379\n",
      "Epoch 2/500\n"
     ]
    },
    {
     "name": "stderr",
     "output_type": "stream",
     "text": [
      "2022-09-08 12:03:02.470154: I tensorflow/core/grappler/optimizers/custom_graph_optimizer_registry.cc:113] Plugin optimizer for device_type GPU is enabled.\n",
      "2022-09-08 12:03:02.550536: I tensorflow/core/grappler/optimizers/custom_graph_optimizer_registry.cc:113] Plugin optimizer for device_type GPU is enabled.\n"
     ]
    },
    {
     "name": "stdout",
     "output_type": "stream",
     "text": [
      "1/1 [==============================] - 6s 6s/step - loss: 841.7319 - accuracy: 0.0427 - val_loss: 1040.1106 - val_accuracy: 0.1047\n",
      "Epoch 3/500\n",
      "1/1 [==============================] - 6s 6s/step - loss: 836.3354 - accuracy: 0.1104 - val_loss: 1025.6110 - val_accuracy: 0.1837\n",
      "Epoch 4/500\n",
      "1/1 [==============================] - 6s 6s/step - loss: 830.3494 - accuracy: 0.1901 - val_loss: 1007.4156 - val_accuracy: 0.2439\n",
      "Epoch 5/500\n",
      "1/1 [==============================] - 6s 6s/step - loss: 823.3032 - accuracy: 0.2398 - val_loss: 983.0842 - val_accuracy: 0.2840\n",
      "Epoch 6/500\n",
      "1/1 [==============================] - 8s 8s/step - loss: 814.5865 - accuracy: 0.2601 - val_loss: 950.2135 - val_accuracy: 0.2728\n",
      "Epoch 7/500\n",
      "1/1 [==============================] - 7s 7s/step - loss: 803.1133 - accuracy: 0.2567 - val_loss: 909.7891 - val_accuracy: 0.2528\n",
      "Epoch 8/500\n",
      "1/1 [==============================] - 6s 6s/step - loss: 787.3531 - accuracy: 0.2319 - val_loss: 868.8173 - val_accuracy: 0.1915\n",
      "Epoch 9/500\n",
      "1/1 [==============================] - 5s 5s/step - loss: 765.2911 - accuracy: 0.2072 - val_loss: 839.4760 - val_accuracy: 0.1559\n",
      "Epoch 10/500\n",
      "1/1 [==============================] - 6s 6s/step - loss: 735.4674 - accuracy: 0.1682 - val_loss: 829.6129 - val_accuracy: 0.1281\n",
      "Epoch 11/500\n",
      "1/1 [==============================] - 7s 7s/step - loss: 700.7161 - accuracy: 0.1332 - val_loss: 835.7468 - val_accuracy: 0.1192\n",
      "Epoch 12/500\n",
      "1/1 [==============================] - 10s 10s/step - loss: 673.8817 - accuracy: 0.1101 - val_loss: 849.3341 - val_accuracy: 0.1169\n",
      "Epoch 13/500\n",
      "1/1 [==============================] - 7s 7s/step - loss: 671.9234 - accuracy: 0.0964 - val_loss: 866.3183 - val_accuracy: 0.1102\n",
      "Epoch 14/500\n",
      "1/1 [==============================] - 8s 8s/step - loss: 695.6574 - accuracy: 0.0842 - val_loss: 886.5870 - val_accuracy: 0.1102\n",
      "Epoch 15/500\n",
      "1/1 [==============================] - 7s 7s/step - loss: 730.5515 - accuracy: 0.0800 - val_loss: 908.6001 - val_accuracy: 0.1102\n",
      "Epoch 16/500\n",
      "1/1 [==============================] - 7s 7s/step - loss: 764.5829 - accuracy: 0.0768 - val_loss: 936.2516 - val_accuracy: 0.1102\n",
      "Epoch 17/500\n",
      "1/1 [==============================] - 7s 7s/step - loss: 796.9734 - accuracy: 0.0789 - val_loss: 965.9432 - val_accuracy: 0.1102\n",
      "Epoch 18/500\n",
      "1/1 [==============================] - 7s 7s/step - loss: 829.7997 - accuracy: 0.0784 - val_loss: 988.1267 - val_accuracy: 0.1102\n",
      "Epoch 19/500\n",
      "1/1 [==============================] - 6s 6s/step - loss: 859.7545 - accuracy: 0.0811 - val_loss: 1016.1714 - val_accuracy: 0.1147\n",
      "Epoch 20/500\n",
      "1/1 [==============================] - 6s 6s/step - loss: 891.3224 - accuracy: 0.0781 - val_loss: 1047.5061 - val_accuracy: 0.1091\n",
      "Epoch 21/500\n",
      "1/1 [==============================] - 7s 7s/step - loss: 923.1689 - accuracy: 0.0782 - val_loss: 1076.1323 - val_accuracy: 0.1102\n",
      "Epoch 22/500\n",
      "1/1 [==============================] - 6s 6s/step - loss: 953.4994 - accuracy: 0.0764 - val_loss: 1104.1974 - val_accuracy: 0.1102\n",
      "Epoch 23/500\n",
      "1/1 [==============================] - 6s 6s/step - loss: 983.2347 - accuracy: 0.0768 - val_loss: 1132.2759 - val_accuracy: 0.1102\n",
      "Epoch 24/500\n",
      "1/1 [==============================] - 6s 6s/step - loss: 1011.6464 - accuracy: 0.0772 - val_loss: 1161.4355 - val_accuracy: 0.1102\n",
      "Epoch 25/500\n",
      "1/1 [==============================] - 6s 6s/step - loss: 1043.0237 - accuracy: 0.0775 - val_loss: 1193.0515 - val_accuracy: 0.1102\n",
      "Epoch 26/500\n",
      "1/1 [==============================] - 6s 6s/step - loss: 1076.1085 - accuracy: 0.0750 - val_loss: 1222.7251 - val_accuracy: 0.1102\n",
      "Epoch 27/500\n",
      "1/1 [==============================] - 6s 6s/step - loss: 1108.7297 - accuracy: 0.0722 - val_loss: 1253.8848 - val_accuracy: 0.0379\n",
      "Epoch 28/500\n",
      "1/1 [==============================] - 5s 5s/step - loss: 1138.3645 - accuracy: 0.0756 - val_loss: 1285.6250 - val_accuracy: 0.0267\n",
      "Epoch 29/500\n",
      "1/1 [==============================] - 8s 8s/step - loss: 1172.3077 - accuracy: 0.0650 - val_loss: 1318.0574 - val_accuracy: 0.0245\n",
      "Epoch 30/500\n",
      "1/1 [==============================] - 8s 8s/step - loss: 1208.8291 - accuracy: 0.0605 - val_loss: 1350.8398 - val_accuracy: 0.0189\n",
      "Epoch 31/500\n",
      "1/1 [==============================] - 9s 9s/step - loss: 1244.8417 - accuracy: 0.0603 - val_loss: 1384.0336 - val_accuracy: 0.0189\n",
      "Epoch 32/500\n"
     ]
    },
    {
     "ename": "KeyboardInterrupt",
     "evalue": "",
     "output_type": "error",
     "traceback": [
      "\u001b[0;31m---------------------------------------------------------------------------\u001b[0m",
      "\u001b[0;31mKeyboardInterrupt\u001b[0m                         Traceback (most recent call last)",
      "\u001b[1;32m/Users/rayzhang/Desktop/Code/LSTM-Composition/main.ipynb Cell 8\u001b[0m in \u001b[0;36m<cell line: 3>\u001b[0;34m()\u001b[0m\n\u001b[1;32m      <a href='vscode-notebook-cell:/Users/rayzhang/Desktop/Code/LSTM-Composition/main.ipynb#ch0000007?line=0'>1</a>\u001b[0m epochs \u001b[39m=\u001b[39m \u001b[39m500\u001b[39m\n\u001b[1;32m      <a href='vscode-notebook-cell:/Users/rayzhang/Desktop/Code/LSTM-Composition/main.ipynb#ch0000007?line=1'>2</a>\u001b[0m start_time \u001b[39m=\u001b[39m time\u001b[39m.\u001b[39mtime()\n\u001b[0;32m----> <a href='vscode-notebook-cell:/Users/rayzhang/Desktop/Code/LSTM-Composition/main.ipynb#ch0000007?line=2'>3</a>\u001b[0m history \u001b[39m=\u001b[39m model\u001b[39m.\u001b[39;49mfit(x \u001b[39m=\u001b[39;49m in_samp, y \u001b[39m=\u001b[39;49m trgt_samp, epochs \u001b[39m=\u001b[39;49m epochs, validation_split \u001b[39m=\u001b[39;49m \u001b[39m0.1\u001b[39;49m, batch_size \u001b[39m=\u001b[39;49m in_samp\u001b[39m.\u001b[39;49mshape[\u001b[39m0\u001b[39;49m])\n\u001b[1;32m      <a href='vscode-notebook-cell:/Users/rayzhang/Desktop/Code/LSTM-Composition/main.ipynb#ch0000007?line=3'>4</a>\u001b[0m \u001b[39mprint\u001b[39m(\u001b[39m\"\u001b[39m\u001b[39mTotal training time: \u001b[39m\u001b[39m\"\u001b[39m, time\u001b[39m.\u001b[39mtime() \u001b[39m-\u001b[39m start_time, \u001b[39m\"\u001b[39m\u001b[39mseconds\u001b[39m\u001b[39m\"\u001b[39m)\n",
      "File \u001b[0;32m/opt/anaconda3/envs/gilbert/lib/python3.10/site-packages/keras/utils/traceback_utils.py:64\u001b[0m, in \u001b[0;36mfilter_traceback.<locals>.error_handler\u001b[0;34m(*args, **kwargs)\u001b[0m\n\u001b[1;32m     62\u001b[0m filtered_tb \u001b[39m=\u001b[39m \u001b[39mNone\u001b[39;00m\n\u001b[1;32m     63\u001b[0m \u001b[39mtry\u001b[39;00m:\n\u001b[0;32m---> 64\u001b[0m   \u001b[39mreturn\u001b[39;00m fn(\u001b[39m*\u001b[39;49margs, \u001b[39m*\u001b[39;49m\u001b[39m*\u001b[39;49mkwargs)\n\u001b[1;32m     65\u001b[0m \u001b[39mexcept\u001b[39;00m \u001b[39mException\u001b[39;00m \u001b[39mas\u001b[39;00m e:  \u001b[39m# pylint: disable=broad-except\u001b[39;00m\n\u001b[1;32m     66\u001b[0m   filtered_tb \u001b[39m=\u001b[39m _process_traceback_frames(e\u001b[39m.\u001b[39m__traceback__)\n",
      "File \u001b[0;32m/opt/anaconda3/envs/gilbert/lib/python3.10/site-packages/keras/engine/training.py:1409\u001b[0m, in \u001b[0;36mModel.fit\u001b[0;34m(self, x, y, batch_size, epochs, verbose, callbacks, validation_split, validation_data, shuffle, class_weight, sample_weight, initial_epoch, steps_per_epoch, validation_steps, validation_batch_size, validation_freq, max_queue_size, workers, use_multiprocessing)\u001b[0m\n\u001b[1;32m   1402\u001b[0m \u001b[39mwith\u001b[39;00m tf\u001b[39m.\u001b[39mprofiler\u001b[39m.\u001b[39mexperimental\u001b[39m.\u001b[39mTrace(\n\u001b[1;32m   1403\u001b[0m     \u001b[39m'\u001b[39m\u001b[39mtrain\u001b[39m\u001b[39m'\u001b[39m,\n\u001b[1;32m   1404\u001b[0m     epoch_num\u001b[39m=\u001b[39mepoch,\n\u001b[1;32m   1405\u001b[0m     step_num\u001b[39m=\u001b[39mstep,\n\u001b[1;32m   1406\u001b[0m     batch_size\u001b[39m=\u001b[39mbatch_size,\n\u001b[1;32m   1407\u001b[0m     _r\u001b[39m=\u001b[39m\u001b[39m1\u001b[39m):\n\u001b[1;32m   1408\u001b[0m   callbacks\u001b[39m.\u001b[39mon_train_batch_begin(step)\n\u001b[0;32m-> 1409\u001b[0m   tmp_logs \u001b[39m=\u001b[39m \u001b[39mself\u001b[39;49m\u001b[39m.\u001b[39;49mtrain_function(iterator)\n\u001b[1;32m   1410\u001b[0m   \u001b[39mif\u001b[39;00m data_handler\u001b[39m.\u001b[39mshould_sync:\n\u001b[1;32m   1411\u001b[0m     context\u001b[39m.\u001b[39masync_wait()\n",
      "File \u001b[0;32m/opt/anaconda3/envs/gilbert/lib/python3.10/site-packages/tensorflow/python/util/traceback_utils.py:150\u001b[0m, in \u001b[0;36mfilter_traceback.<locals>.error_handler\u001b[0;34m(*args, **kwargs)\u001b[0m\n\u001b[1;32m    148\u001b[0m filtered_tb \u001b[39m=\u001b[39m \u001b[39mNone\u001b[39;00m\n\u001b[1;32m    149\u001b[0m \u001b[39mtry\u001b[39;00m:\n\u001b[0;32m--> 150\u001b[0m   \u001b[39mreturn\u001b[39;00m fn(\u001b[39m*\u001b[39;49margs, \u001b[39m*\u001b[39;49m\u001b[39m*\u001b[39;49mkwargs)\n\u001b[1;32m    151\u001b[0m \u001b[39mexcept\u001b[39;00m \u001b[39mException\u001b[39;00m \u001b[39mas\u001b[39;00m e:\n\u001b[1;32m    152\u001b[0m   filtered_tb \u001b[39m=\u001b[39m _process_traceback_frames(e\u001b[39m.\u001b[39m__traceback__)\n",
      "File \u001b[0;32m/opt/anaconda3/envs/gilbert/lib/python3.10/site-packages/tensorflow/python/eager/def_function.py:915\u001b[0m, in \u001b[0;36mFunction.__call__\u001b[0;34m(self, *args, **kwds)\u001b[0m\n\u001b[1;32m    912\u001b[0m compiler \u001b[39m=\u001b[39m \u001b[39m\"\u001b[39m\u001b[39mxla\u001b[39m\u001b[39m\"\u001b[39m \u001b[39mif\u001b[39;00m \u001b[39mself\u001b[39m\u001b[39m.\u001b[39m_jit_compile \u001b[39melse\u001b[39;00m \u001b[39m\"\u001b[39m\u001b[39mnonXla\u001b[39m\u001b[39m\"\u001b[39m\n\u001b[1;32m    914\u001b[0m \u001b[39mwith\u001b[39;00m OptionalXlaContext(\u001b[39mself\u001b[39m\u001b[39m.\u001b[39m_jit_compile):\n\u001b[0;32m--> 915\u001b[0m   result \u001b[39m=\u001b[39m \u001b[39mself\u001b[39;49m\u001b[39m.\u001b[39;49m_call(\u001b[39m*\u001b[39;49margs, \u001b[39m*\u001b[39;49m\u001b[39m*\u001b[39;49mkwds)\n\u001b[1;32m    917\u001b[0m new_tracing_count \u001b[39m=\u001b[39m \u001b[39mself\u001b[39m\u001b[39m.\u001b[39mexperimental_get_tracing_count()\n\u001b[1;32m    918\u001b[0m without_tracing \u001b[39m=\u001b[39m (tracing_count \u001b[39m==\u001b[39m new_tracing_count)\n",
      "File \u001b[0;32m/opt/anaconda3/envs/gilbert/lib/python3.10/site-packages/tensorflow/python/eager/def_function.py:947\u001b[0m, in \u001b[0;36mFunction._call\u001b[0;34m(self, *args, **kwds)\u001b[0m\n\u001b[1;32m    944\u001b[0m   \u001b[39mself\u001b[39m\u001b[39m.\u001b[39m_lock\u001b[39m.\u001b[39mrelease()\n\u001b[1;32m    945\u001b[0m   \u001b[39m# In this case we have created variables on the first call, so we run the\u001b[39;00m\n\u001b[1;32m    946\u001b[0m   \u001b[39m# defunned version which is guaranteed to never create variables.\u001b[39;00m\n\u001b[0;32m--> 947\u001b[0m   \u001b[39mreturn\u001b[39;00m \u001b[39mself\u001b[39;49m\u001b[39m.\u001b[39;49m_stateless_fn(\u001b[39m*\u001b[39;49margs, \u001b[39m*\u001b[39;49m\u001b[39m*\u001b[39;49mkwds)  \u001b[39m# pylint: disable=not-callable\u001b[39;00m\n\u001b[1;32m    948\u001b[0m \u001b[39melif\u001b[39;00m \u001b[39mself\u001b[39m\u001b[39m.\u001b[39m_stateful_fn \u001b[39mis\u001b[39;00m \u001b[39mnot\u001b[39;00m \u001b[39mNone\u001b[39;00m:\n\u001b[1;32m    949\u001b[0m   \u001b[39m# Release the lock early so that multiple threads can perform the call\u001b[39;00m\n\u001b[1;32m    950\u001b[0m   \u001b[39m# in parallel.\u001b[39;00m\n\u001b[1;32m    951\u001b[0m   \u001b[39mself\u001b[39m\u001b[39m.\u001b[39m_lock\u001b[39m.\u001b[39mrelease()\n",
      "File \u001b[0;32m/opt/anaconda3/envs/gilbert/lib/python3.10/site-packages/tensorflow/python/eager/function.py:2453\u001b[0m, in \u001b[0;36mFunction.__call__\u001b[0;34m(self, *args, **kwargs)\u001b[0m\n\u001b[1;32m   2450\u001b[0m \u001b[39mwith\u001b[39;00m \u001b[39mself\u001b[39m\u001b[39m.\u001b[39m_lock:\n\u001b[1;32m   2451\u001b[0m   (graph_function,\n\u001b[1;32m   2452\u001b[0m    filtered_flat_args) \u001b[39m=\u001b[39m \u001b[39mself\u001b[39m\u001b[39m.\u001b[39m_maybe_define_function(args, kwargs)\n\u001b[0;32m-> 2453\u001b[0m \u001b[39mreturn\u001b[39;00m graph_function\u001b[39m.\u001b[39;49m_call_flat(\n\u001b[1;32m   2454\u001b[0m     filtered_flat_args, captured_inputs\u001b[39m=\u001b[39;49mgraph_function\u001b[39m.\u001b[39;49mcaptured_inputs)\n",
      "File \u001b[0;32m/opt/anaconda3/envs/gilbert/lib/python3.10/site-packages/tensorflow/python/eager/function.py:1860\u001b[0m, in \u001b[0;36mConcreteFunction._call_flat\u001b[0;34m(self, args, captured_inputs, cancellation_manager)\u001b[0m\n\u001b[1;32m   1856\u001b[0m possible_gradient_type \u001b[39m=\u001b[39m gradients_util\u001b[39m.\u001b[39mPossibleTapeGradientTypes(args)\n\u001b[1;32m   1857\u001b[0m \u001b[39mif\u001b[39;00m (possible_gradient_type \u001b[39m==\u001b[39m gradients_util\u001b[39m.\u001b[39mPOSSIBLE_GRADIENT_TYPES_NONE\n\u001b[1;32m   1858\u001b[0m     \u001b[39mand\u001b[39;00m executing_eagerly):\n\u001b[1;32m   1859\u001b[0m   \u001b[39m# No tape is watching; skip to running the function.\u001b[39;00m\n\u001b[0;32m-> 1860\u001b[0m   \u001b[39mreturn\u001b[39;00m \u001b[39mself\u001b[39m\u001b[39m.\u001b[39m_build_call_outputs(\u001b[39mself\u001b[39;49m\u001b[39m.\u001b[39;49m_inference_function\u001b[39m.\u001b[39;49mcall(\n\u001b[1;32m   1861\u001b[0m       ctx, args, cancellation_manager\u001b[39m=\u001b[39;49mcancellation_manager))\n\u001b[1;32m   1862\u001b[0m forward_backward \u001b[39m=\u001b[39m \u001b[39mself\u001b[39m\u001b[39m.\u001b[39m_select_forward_and_backward_functions(\n\u001b[1;32m   1863\u001b[0m     args,\n\u001b[1;32m   1864\u001b[0m     possible_gradient_type,\n\u001b[1;32m   1865\u001b[0m     executing_eagerly)\n\u001b[1;32m   1866\u001b[0m forward_function, args_with_tangents \u001b[39m=\u001b[39m forward_backward\u001b[39m.\u001b[39mforward()\n",
      "File \u001b[0;32m/opt/anaconda3/envs/gilbert/lib/python3.10/site-packages/tensorflow/python/eager/function.py:497\u001b[0m, in \u001b[0;36m_EagerDefinedFunction.call\u001b[0;34m(self, ctx, args, cancellation_manager)\u001b[0m\n\u001b[1;32m    495\u001b[0m \u001b[39mwith\u001b[39;00m _InterpolateFunctionError(\u001b[39mself\u001b[39m):\n\u001b[1;32m    496\u001b[0m   \u001b[39mif\u001b[39;00m cancellation_manager \u001b[39mis\u001b[39;00m \u001b[39mNone\u001b[39;00m:\n\u001b[0;32m--> 497\u001b[0m     outputs \u001b[39m=\u001b[39m execute\u001b[39m.\u001b[39;49mexecute(\n\u001b[1;32m    498\u001b[0m         \u001b[39mstr\u001b[39;49m(\u001b[39mself\u001b[39;49m\u001b[39m.\u001b[39;49msignature\u001b[39m.\u001b[39;49mname),\n\u001b[1;32m    499\u001b[0m         num_outputs\u001b[39m=\u001b[39;49m\u001b[39mself\u001b[39;49m\u001b[39m.\u001b[39;49m_num_outputs,\n\u001b[1;32m    500\u001b[0m         inputs\u001b[39m=\u001b[39;49margs,\n\u001b[1;32m    501\u001b[0m         attrs\u001b[39m=\u001b[39;49mattrs,\n\u001b[1;32m    502\u001b[0m         ctx\u001b[39m=\u001b[39;49mctx)\n\u001b[1;32m    503\u001b[0m   \u001b[39melse\u001b[39;00m:\n\u001b[1;32m    504\u001b[0m     outputs \u001b[39m=\u001b[39m execute\u001b[39m.\u001b[39mexecute_with_cancellation(\n\u001b[1;32m    505\u001b[0m         \u001b[39mstr\u001b[39m(\u001b[39mself\u001b[39m\u001b[39m.\u001b[39msignature\u001b[39m.\u001b[39mname),\n\u001b[1;32m    506\u001b[0m         num_outputs\u001b[39m=\u001b[39m\u001b[39mself\u001b[39m\u001b[39m.\u001b[39m_num_outputs,\n\u001b[0;32m   (...)\u001b[0m\n\u001b[1;32m    509\u001b[0m         ctx\u001b[39m=\u001b[39mctx,\n\u001b[1;32m    510\u001b[0m         cancellation_manager\u001b[39m=\u001b[39mcancellation_manager)\n",
      "File \u001b[0;32m/opt/anaconda3/envs/gilbert/lib/python3.10/site-packages/tensorflow/python/eager/execute.py:54\u001b[0m, in \u001b[0;36mquick_execute\u001b[0;34m(op_name, num_outputs, inputs, attrs, ctx, name)\u001b[0m\n\u001b[1;32m     52\u001b[0m \u001b[39mtry\u001b[39;00m:\n\u001b[1;32m     53\u001b[0m   ctx\u001b[39m.\u001b[39mensure_initialized()\n\u001b[0;32m---> 54\u001b[0m   tensors \u001b[39m=\u001b[39m pywrap_tfe\u001b[39m.\u001b[39;49mTFE_Py_Execute(ctx\u001b[39m.\u001b[39;49m_handle, device_name, op_name,\n\u001b[1;32m     55\u001b[0m                                       inputs, attrs, num_outputs)\n\u001b[1;32m     56\u001b[0m \u001b[39mexcept\u001b[39;00m core\u001b[39m.\u001b[39m_NotOkStatusException \u001b[39mas\u001b[39;00m e:\n\u001b[1;32m     57\u001b[0m   \u001b[39mif\u001b[39;00m name \u001b[39mis\u001b[39;00m \u001b[39mnot\u001b[39;00m \u001b[39mNone\u001b[39;00m:\n",
      "\u001b[0;31mKeyboardInterrupt\u001b[0m: "
     ]
    }
   ],
   "source": [
    "epochs = 500\n",
    "start_time = time.time()\n",
    "history = model.fit(x = in_samp, y = trgt_samp, epochs = epochs, validation_split = 0.1, batch_size = in_samp.shape[0])\n",
    "print(\"Total training time: \", time.time() - start_time, \"seconds\")\n"
   ]
  },
  {
   "cell_type": "code",
   "execution_count": 136,
   "metadata": {},
   "outputs": [
    {
     "data": {
      "image/png": "[encoded data removed]",
      "text/plain": [
       "<Figure size 432x288 with 1 Axes>"
      ]
     },
     "metadata": {
      "needs_background": "light"
     },
     "output_type": "display_data"
    }
   ],
   "source": [
    "plt.plot(history.history['accuracy'])\n",
    "plt.plot(history.history['val_accuracy'])\n",
    "plt.title('model accuracy')\n",
    "plt.ylabel('accuracy')\n",
    "plt.xlabel('epoch')\n",
    "plt.legend(['train', 'val'], loc='upper left')\n",
    "plt.show()"
   ]
  },
  {
   "cell_type": "code",
   "execution_count": 137,
   "metadata": {},
   "outputs": [
    {
     "data": {
      "image/png": "[encoded data removed]",
      "text/plain": [
       "<Figure size 432x288 with 1 Axes>"
      ]
     },
     "metadata": {
      "needs_background": "light"
     },
     "output_type": "display_data"
    }
   ],
   "source": [
    "plt.plot(history.history['loss'])\n",
    "plt.plot(history.history['val_loss'])\n",
    "plt.title('model loss')\n",
    "plt.ylabel('loss')\n",
    "plt.xlabel('epoch')\n",
    "plt.legend(['train', 'val'], loc='upper left')\n",
    "plt.show()"
   ]
  },
  {
   "cell_type": "code",
   "execution_count": null,
   "metadata": {},
   "outputs": [],
   "source": []
  }
 ],
 "metadata": {
  "kernelspec": {
   "display_name": "Python 3.10.4 ('gilbert')",
   "language": "python",
   "name": "python3"
  },
  "language_info": {
   "codemirror_mode": {
    "name": "ipython",
    "version": 3
   },
   "file_extension": ".py",
   "mimetype": "text/x-python",
   "name": "python",
   "nbconvert_exporter": "python",
   "pygments_lexer": "ipython3",
   "version": "3.10.4"
  },
  "orig_nbformat": 4,
  "vscode": {
   "interpreter": {
    "hash": "f3e0dbdab9ae6bc40b482f579ffcb0969ca4121db67304f38c6d13479eb2c164"
   }
  }
 },
 "nbformat": 4,
 "nbformat_minor": 2
}
