{
 "cells": [
  {
   "cell_type": "code",
   "execution_count": 4,
   "metadata": {},
   "outputs": [],
   "source": [
    "import tensorflow as tf\n",
    "import numpy as np\n",
    "import pretty_midi as midi\n",
    "import os\n",
    "import fluidsynth\n",
    "import matplotlib.pyplot as plt\n",
    "from tensorflow import keras \n",
    "from tensorflow.keras import layers\n",
    "from matplotlib import pyplot as plt\n",
    "import time\n",
    "import pandas as pd"
   ]
  },
  {
   "cell_type": "code",
   "execution_count": 8,
   "metadata": {},
   "outputs": [],
   "source": [
    "#midi_data is a list of PrettyMIDI objects\n",
    "midi_data = []\n",
    "directory = \"../data/\"\n",
    "\n",
    "for filename in os.listdir(directory):\n",
    "    midi_data.append(midi.PrettyMIDI(os.path.join(directory, filename)))\n",
    "    "
   ]
  },
  {
   "cell_type": "code",
   "execution_count": 43,
   "metadata": {},
   "outputs": [
    {
     "data": {
      "text/plain": [
       "4"
      ]
     },
     "execution_count": 43,
     "metadata": {},
     "output_type": "execute_result"
    }
   ],
   "source": [
    "#Pull notes from midi file\n",
    "velocities = []\n",
    "pitches = []\n",
    "starts = []\n",
    "ends = []\n",
    "durations = []\n",
    "steps = []\n",
    "#Iterate through all midi objects, pull notes and zip together in a list \n",
    "for midi_obj in midi_data:\n",
    "    piano = sorted(midi_obj.instruments[0].notes, key = lambda note: note.start)\n",
    "    prev_start = piano[0].start\n",
    "    for note in piano:\n",
    "        velocities.append(note.velocity)\n",
    "        pitches.append(note.pitch)\n",
    "        starts.append(note.start)\n",
    "        ends.append(note.end)\n",
    "        durations.append(note.get_duration())\n",
    "        steps.append(note.start - prev_start)\n",
    "        prev_start = note.start\n",
    "\n",
    "\n",
    "note_data_lists = list(zip(velocities, pitches, starts, ends, durations, steps))\n",
    "\n",
    "#Move zipped lists into dataframe and sort by start time so notes are chronological \n",
    "note_data = pd.DataFrame(note_data_lists, columns = ['Velocities', 'Pitches', 'Starts', 'Ends', 'Durations', 'Steps'])\n",
    "note_data = note_data.drop('Starts', axis = 1)\n",
    "note_data = note_data.drop('Ends', axis = 1)\n",
    "numpy_note_data = note_data.to_numpy()\n",
    "numpy_note_data.shape[1]\n",
    "\n"
   ]
  },
  {
   "cell_type": "code",
   "execution_count": 42,
   "metadata": {},
   "outputs": [
    {
     "data": {
      "text/plain": [
       "22297"
      ]
     },
     "execution_count": 42,
     "metadata": {},
     "output_type": "execute_result"
    }
   ],
   "source": [
    "len(numpy_note_data)"
   ]
  },
  {
   "cell_type": "code",
   "execution_count": 25,
   "metadata": {},
   "outputs": [],
   "source": [
    "pitches = 128\n",
    "num_features = 4"
   ]
  },
  {
   "cell_type": "code",
   "execution_count": 26,
   "metadata": {},
   "outputs": [
    {
     "name": "stdout",
     "output_type": "stream",
     "text": [
      "Metal device set to: Apple M1\n",
      "\n",
      "systemMemory: 8.00 GB\n",
      "maxCacheSize: 2.67 GB\n",
      "\n"
     ]
    },
    {
     "name": "stderr",
     "output_type": "stream",
     "text": [
      "2022-09-22 11:40:21.619645: I tensorflow/core/common_runtime/pluggable_device/pluggable_device_factory.cc:305] Could not identify NUMA node of platform GPU ID 0, defaulting to 0. Your kernel may not have been built with NUMA support.\n",
      "2022-09-22 11:40:21.621034: I tensorflow/core/common_runtime/pluggable_device/pluggable_device_factory.cc:271] Created TensorFlow device (/job:localhost/replica:0/task:0/device:GPU:0 with 0 MB memory) -> physical PluggableDevice (device: 0, name: METAL, pci bus id: <undefined>)\n"
     ]
    },
    {
     "data": {
      "text/plain": [
       "TensorSpec(shape=(4,), dtype=tf.float64, name=None)"
      ]
     },
     "execution_count": 26,
     "metadata": {},
     "output_type": "execute_result"
    }
   ],
   "source": [
    "init_dataset = tf.data.Dataset.from_tensor_slices(train_data)\n",
    "init_dataset.element_spec"
   ]
  },
  {
   "cell_type": "code",
   "execution_count": 27,
   "metadata": {},
   "outputs": [
    {
     "data": {
      "text/plain": [
       "tensorflow.python.data.ops.dataset_ops.WindowDataset"
      ]
     },
     "execution_count": 27,
     "metadata": {},
     "output_type": "execute_result"
    }
   ],
   "source": [
    "seq_length = 25\n",
    "windows = init_dataset.window(seq_length + 1, shift = 1, stride = 1, drop_remainder = True)\n",
    "type(windows)"
   ]
  },
  {
   "cell_type": "code",
   "execution_count": 20,
   "metadata": {},
   "outputs": [
    {
     "name": "stdout",
     "output_type": "stream",
     "text": [
      "DatasetSpec(TensorSpec(shape=(4,), dtype=tf.float64, name=None), TensorShape([]))\n",
      "26\n"
     ]
    }
   ],
   "source": [
    "print(windows.element_spec)\n",
    "window_elem = list(windows)[0]\n",
    "print(len(window_elem))"
   ]
  },
  {
   "cell_type": "code",
   "execution_count": 29,
   "metadata": {},
   "outputs": [],
   "source": [
    "map_func = lambda x : x.batch(seq_length + 1, drop_remainder = True)"
   ]
  },
  {
   "cell_type": "code",
   "execution_count": 32,
   "metadata": {},
   "outputs": [
    {
     "data": {
      "text/plain": [
       "tensorflow.python.data.ops.dataset_ops.FlatMapDataset"
      ]
     },
     "execution_count": 32,
     "metadata": {},
     "output_type": "execute_result"
    }
   ],
   "source": [
    "flattened_init_dataset = windows.flat_map(map_func)\n",
    "type(flattened_init_dataset)"
   ]
  },
  {
   "cell_type": "code",
   "execution_count": 33,
   "metadata": {},
   "outputs": [],
   "source": [
    "def label_make(x):\n",
    "    input_data = x[:-1]\n",
    "    label_value = x[-1]\n",
    "    label_dict = {\n",
    "        key:label_value[i] for i,key in enumerate(['velocity', 'pitch', 'duration', 'step'])\n",
    "    }\n",
    "    input_data = input_data / [128, 128, 1, 1] #Normalization\n",
    "    return input_data, label_dict\n"
   ]
  },
  {
   "cell_type": "code",
   "execution_count": 34,
   "metadata": {},
   "outputs": [],
   "source": [
    "nonbatched_indata = flattened_init_dataset.map(label_make, num_parallel_calls = tf.data.AUTOTUNE)\n"
   ]
  },
  {
   "cell_type": "code",
   "execution_count": 35,
   "metadata": {},
   "outputs": [
    {
     "data": {
      "text/plain": [
       "tensorflow.python.data.ops.dataset_ops.PrefetchDataset"
      ]
     },
     "execution_count": 35,
     "metadata": {},
     "output_type": "execute_result"
    }
   ],
   "source": [
    "batch_size = 64\n",
    "#Shuffle populates a buffer of defined size with dataset and randomly samples it to shuffle examples \n",
    "#Batch takes dataset and divides into batches of specified size \n",
    "#Cache, assuming complete iteration of dataset, will cache the values and use cached data for further iteration \n",
    "#Prefetch allows for faster processing of data by preprocessing future elements while simultaneously processing currnet \n",
    "    # - Autotune parameter allows tensorflow to dynamically adjust buffer size for prefetch  as necessary\n",
    "batched_indata = (nonbatched_indata\n",
    "                    .shuffle(len(note_data) - seq_length)\n",
    "                    .batch(batch_size, drop_remainder = True)\n",
    "                    .cache()\n",
    "                    .prefetch(tf.data.AUTOTUNE)\n",
    "                )\n",
    "\n",
    "type(batched_indata)\n"
   ]
  },
  {
   "cell_type": "code",
   "execution_count": 36,
   "metadata": {},
   "outputs": [
    {
     "data": {
      "text/plain": [
       "numpy.ndarray"
      ]
     },
     "execution_count": 36,
     "metadata": {},
     "output_type": "execute_result"
    }
   ],
   "source": []
  },
  {
   "cell_type": "code",
   "execution_count": 37,
   "metadata": {},
   "outputs": [
    {
     "name": "stdout",
     "output_type": "stream",
     "text": [
      "Model: \"Chad\"\n",
      "__________________________________________________________________________________________________\n",
      " Layer (type)                   Output Shape         Param #     Connected to                     \n",
      "==================================================================================================\n",
      " input_1 (InputLayer)           [(None, 25, 4)]      0           []                               \n",
      "                                                                                                  \n",
      " lstm (LSTM)                    (None, 128)          68096       ['input_1[0][0]']                \n",
      "                                                                                                  \n",
      " duration (Dense)               (None, 1)            129         ['lstm[0][0]']                   \n",
      "                                                                                                  \n",
      " pitch (Dense)                  (None, 128)          16512       ['lstm[0][0]']                   \n",
      "                                                                                                  \n",
      " step (Dense)                   (None, 1)            129         ['lstm[0][0]']                   \n",
      "                                                                                                  \n",
      " velocity (Dense)               (None, 128)          16512       ['lstm[0][0]']                   \n",
      "                                                                                                  \n",
      "==================================================================================================\n",
      "Total params: 101,378\n",
      "Trainable params: 101,378\n",
      "Non-trainable params: 0\n",
      "__________________________________________________________________________________________________\n"
     ]
    }
   ],
   "source": [
    "#Build LSTM network with Keras Functional API\n",
    "input_shape = (seq_length, 4)\n",
    "alpha = 0.003\n",
    "\n",
    "inputs = tf.keras.Input(input_shape)\n",
    "x = tf.keras.layers.LSTM(128)(inputs)\n",
    "\n",
    "\n",
    "outputs = {\n",
    "    'velocity': tf.keras.layers.Dense(128, name = 'velocity')(x),\n",
    "    'pitch': tf.keras.layers.Dense(128, name = 'pitch')(x),\n",
    "    'duration': tf.keras.layers.Dense(1, name = 'duration')(x),\n",
    "    'step': tf.keras.layers.Dense(1, name = 'step')(x)\n",
    "}\n",
    "\n",
    "loss = {\n",
    "    'velocity': tf.keras.losses.SparseCategoricalCrossentropy(from_logits = True),\n",
    "    'pitch': tf.keras.losses.SparseCategoricalCrossentropy(from_logits = True),\n",
    "    'duration': tf.keras.losses.MeanSquaredLogarithmicError(),\n",
    "    'step': tf.keras.losses.MeanSquaredError()\n",
    "}\n",
    "\n",
    "model = tf.keras.Model(inputs, outputs, name = 'Chad')\n",
    "\n",
    "model.compile(\n",
    "            loss = loss, \n",
    "            loss_weights = {\n",
    "                'velocity': 1,\n",
    "                'pitch': 1,\n",
    "                'duration': 0.5,\n",
    "                'step': 1\n",
    "            },\n",
    "            optimizer = tf.keras.optimizers.Adam(learning_rate = alpha),\n",
    "            metrics = ['accuracy']\n",
    "        )\n",
    "        \n",
    "model.summary()\n"
   ]
  },
  {
   "cell_type": "code",
   "execution_count": 38,
   "metadata": {},
   "outputs": [],
   "source": [
    "callbacks = [\n",
    "    tf.keras.callbacks.ModelCheckpoint(\n",
    "        filepath='./training_checkpoints/ckpt_{epoch}',\n",
    "        save_weights_only=True),\n",
    "    tf.keras.callbacks.EarlyStopping(\n",
    "        monitor='loss',\n",
    "        patience=5,\n",
    "        verbose=1,\n",
    "        restore_best_weights=True),\n",
    "]"
   ]
  },
  {
   "cell_type": "code",
   "execution_count": 39,
   "metadata": {},
   "outputs": [
    {
     "data": {
      "text/plain": [
       "keras.engine.functional.Functional"
      ]
     },
     "execution_count": 39,
     "metadata": {},
     "output_type": "execute_result"
    }
   ],
   "source": [
    "type(model)\n"
   ]
  },
  {
   "cell_type": "code",
   "execution_count": 72,
   "metadata": {},
   "outputs": [
    {
     "name": "stdout",
     "output_type": "stream",
     "text": [
      "Epoch 1/100\n",
      "348/348 [==============================] - 6s 17ms/step - loss: 8.0516 - duration_loss: 0.4609 - pitch_loss: 3.6549 - step_loss: 0.0530 - velocity_loss: 4.1132\n",
      "Epoch 2/100\n",
      "348/348 [==============================] - 6s 17ms/step - loss: 8.0069 - duration_loss: 0.3827 - pitch_loss: 3.6522 - step_loss: 0.0530 - velocity_loss: 4.1103\n",
      "Epoch 3/100\n",
      "348/348 [==============================] - 6s 17ms/step - loss: 7.9685 - duration_loss: 0.3276 - pitch_loss: 3.6483 - step_loss: 0.0531 - velocity_loss: 4.1033\n",
      "Epoch 4/100\n",
      "348/348 [==============================] - 6s 17ms/step - loss: 7.9210 - duration_loss: 0.2644 - pitch_loss: 3.6452 - step_loss: 0.0526 - velocity_loss: 4.0910\n",
      "Epoch 5/100\n",
      "348/348 [==============================] - 6s 17ms/step - loss: 7.8667 - duration_loss: 0.2190 - pitch_loss: 3.6418 - step_loss: 0.0530 - velocity_loss: 4.0625\n",
      "Epoch 6/100\n",
      "348/348 [==============================] - 6s 16ms/step - loss: 7.7934 - duration_loss: 0.1952 - pitch_loss: 3.6351 - step_loss: 0.0518 - velocity_loss: 4.0089\n",
      "Epoch 7/100\n",
      "348/348 [==============================] - 6s 16ms/step - loss: 7.7210 - duration_loss: 0.1840 - pitch_loss: 3.6264 - step_loss: 0.0515 - velocity_loss: 3.9511\n",
      "Epoch 8/100\n",
      "348/348 [==============================] - 6s 16ms/step - loss: 7.6200 - duration_loss: 0.1612 - pitch_loss: 3.6151 - step_loss: 0.0494 - velocity_loss: 3.8749\n",
      "Epoch 9/100\n",
      "348/348 [==============================] - 6s 16ms/step - loss: 7.5817 - duration_loss: 0.1358 - pitch_loss: 3.6112 - step_loss: 0.0496 - velocity_loss: 3.8529\n",
      "Epoch 10/100\n",
      "348/348 [==============================] - 6s 16ms/step - loss: 7.5262 - duration_loss: 0.1168 - pitch_loss: 3.6062 - step_loss: 0.0492 - velocity_loss: 3.8125\n",
      "Epoch 11/100\n",
      "348/348 [==============================] - 6s 17ms/step - loss: 7.5087 - duration_loss: 0.1188 - pitch_loss: 3.6038 - step_loss: 0.0491 - velocity_loss: 3.7965\n",
      "Epoch 12/100\n",
      "348/348 [==============================] - 6s 17ms/step - loss: 7.4926 - duration_loss: 0.1014 - pitch_loss: 3.6005 - step_loss: 0.0495 - velocity_loss: 3.7920\n",
      "Epoch 13/100\n",
      "348/348 [==============================] - 6s 17ms/step - loss: 7.4698 - duration_loss: 0.0940 - pitch_loss: 3.5977 - step_loss: 0.0490 - velocity_loss: 3.7761\n",
      "Epoch 14/100\n",
      "348/348 [==============================] - 6s 16ms/step - loss: 7.4444 - duration_loss: 0.0875 - pitch_loss: 3.5937 - step_loss: 0.0490 - velocity_loss: 3.7580\n",
      "Epoch 15/100\n",
      "348/348 [==============================] - 6s 17ms/step - loss: 7.4257 - duration_loss: 0.0771 - pitch_loss: 3.5900 - step_loss: 0.0489 - velocity_loss: 3.7483\n",
      "Epoch 16/100\n",
      "348/348 [==============================] - 6s 17ms/step - loss: 7.4071 - duration_loss: 0.0667 - pitch_loss: 3.5870 - step_loss: 0.0489 - velocity_loss: 3.7378\n",
      "Epoch 17/100\n",
      "348/348 [==============================] - 6s 17ms/step - loss: 7.4068 - duration_loss: 0.0656 - pitch_loss: 3.5856 - step_loss: 0.0490 - velocity_loss: 3.7394\n",
      "Epoch 18/100\n",
      "348/348 [==============================] - 6s 17ms/step - loss: 7.3895 - duration_loss: 0.0612 - pitch_loss: 3.5830 - step_loss: 0.0488 - velocity_loss: 3.7271\n",
      "Epoch 19/100\n",
      "348/348 [==============================] - 6s 17ms/step - loss: 7.3754 - duration_loss: 0.0512 - pitch_loss: 3.5789 - step_loss: 0.0489 - velocity_loss: 3.7220\n",
      "Epoch 20/100\n",
      "348/348 [==============================] - 6s 17ms/step - loss: 7.3636 - duration_loss: 0.0499 - pitch_loss: 3.5767 - step_loss: 0.0488 - velocity_loss: 3.7131\n",
      "Epoch 21/100\n",
      "348/348 [==============================] - 6s 17ms/step - loss: 7.3554 - duration_loss: 0.0457 - pitch_loss: 3.5743 - step_loss: 0.0487 - velocity_loss: 3.7095\n",
      "Epoch 22/100\n",
      "348/348 [==============================] - 6s 17ms/step - loss: 7.3443 - duration_loss: 0.0427 - pitch_loss: 3.5712 - step_loss: 0.0488 - velocity_loss: 3.7029\n",
      "Epoch 23/100\n",
      "348/348 [==============================] - 6s 17ms/step - loss: 7.3336 - duration_loss: 0.0424 - pitch_loss: 3.5667 - step_loss: 0.0488 - velocity_loss: 3.6969\n",
      "Epoch 24/100\n",
      "348/348 [==============================] - 6s 17ms/step - loss: 7.3280 - duration_loss: 0.0391 - pitch_loss: 3.5648 - step_loss: 0.0489 - velocity_loss: 3.6947\n",
      "Epoch 25/100\n",
      "348/348 [==============================] - 6s 17ms/step - loss: 7.3170 - duration_loss: 0.0359 - pitch_loss: 3.5613 - step_loss: 0.0488 - velocity_loss: 3.6891\n",
      "Epoch 26/100\n",
      "348/348 [==============================] - 6s 17ms/step - loss: 7.3149 - duration_loss: 0.0339 - pitch_loss: 3.5601 - step_loss: 0.0488 - velocity_loss: 3.6890\n",
      "Epoch 27/100\n",
      "348/348 [==============================] - 6s 17ms/step - loss: 7.3208 - duration_loss: 0.0389 - pitch_loss: 3.5612 - step_loss: 0.0489 - velocity_loss: 3.6912\n",
      "Epoch 28/100\n",
      "348/348 [==============================] - 6s 17ms/step - loss: 7.3070 - duration_loss: 0.0347 - pitch_loss: 3.5567 - step_loss: 0.0488 - velocity_loss: 3.6842\n",
      "Epoch 29/100\n",
      "348/348 [==============================] - 6s 17ms/step - loss: 7.3055 - duration_loss: 0.0321 - pitch_loss: 3.5553 - step_loss: 0.0487 - velocity_loss: 3.6855\n",
      "Epoch 30/100\n",
      "348/348 [==============================] - 6s 17ms/step - loss: 7.3471 - duration_loss: 0.0313 - pitch_loss: 3.5618 - step_loss: 0.0494 - velocity_loss: 3.7202\n",
      "Epoch 31/100\n",
      "348/348 [==============================] - 6s 17ms/step - loss: 7.3211 - duration_loss: 0.0318 - pitch_loss: 3.5546 - step_loss: 0.0487 - velocity_loss: 3.7019\n",
      "Epoch 32/100\n",
      "348/348 [==============================] - 6s 17ms/step - loss: 7.3053 - duration_loss: 0.0308 - pitch_loss: 3.5489 - step_loss: 0.0487 - velocity_loss: 3.6923\n",
      "Epoch 33/100\n",
      "348/348 [==============================] - 6s 17ms/step - loss: 7.2943 - duration_loss: 0.0303 - pitch_loss: 3.5464 - step_loss: 0.0488 - velocity_loss: 3.6840\n",
      "Epoch 34/100\n",
      "348/348 [==============================] - 7s 21ms/step - loss: 7.2819 - duration_loss: 0.0291 - pitch_loss: 3.5448 - step_loss: 0.0486 - velocity_loss: 3.6740\n",
      "Epoch 35/100\n",
      "348/348 [==============================] - 6s 16ms/step - loss: 7.2776 - duration_loss: 0.0279 - pitch_loss: 3.5408 - step_loss: 0.0486 - velocity_loss: 3.6743\n",
      "Epoch 36/100\n",
      "348/348 [==============================] - 6s 16ms/step - loss: 7.2692 - duration_loss: 0.0271 - pitch_loss: 3.5384 - step_loss: 0.0486 - velocity_loss: 3.6687\n",
      "Epoch 37/100\n",
      "348/348 [==============================] - 6s 16ms/step - loss: 7.2650 - duration_loss: 0.0261 - pitch_loss: 3.5356 - step_loss: 0.0486 - velocity_loss: 3.6677\n",
      "Epoch 38/100\n",
      "348/348 [==============================] - 6s 16ms/step - loss: 7.2595 - duration_loss: 0.0245 - pitch_loss: 3.5345 - step_loss: 0.0486 - velocity_loss: 3.6641\n",
      "Epoch 39/100\n",
      "348/348 [==============================] - 6s 16ms/step - loss: 7.2564 - duration_loss: 0.0240 - pitch_loss: 3.5319 - step_loss: 0.0487 - velocity_loss: 3.6638\n",
      "Epoch 40/100\n",
      "348/348 [==============================] - 6s 16ms/step - loss: 7.2464 - duration_loss: 0.0239 - pitch_loss: 3.5289 - step_loss: 0.0485 - velocity_loss: 3.6571\n",
      "Epoch 41/100\n",
      "348/348 [==============================] - 6s 17ms/step - loss: 7.2358 - duration_loss: 0.0225 - pitch_loss: 3.5260 - step_loss: 0.0485 - velocity_loss: 3.6501\n",
      "Epoch 42/100\n",
      "348/348 [==============================] - 6s 17ms/step - loss: 7.2309 - duration_loss: 0.0227 - pitch_loss: 3.5231 - step_loss: 0.0484 - velocity_loss: 3.6480\n",
      "Epoch 43/100\n",
      "348/348 [==============================] - 6s 17ms/step - loss: 7.2255 - duration_loss: 0.0228 - pitch_loss: 3.5212 - step_loss: 0.0485 - velocity_loss: 3.6444\n",
      "Epoch 44/100\n",
      "348/348 [==============================] - 6s 17ms/step - loss: 7.2228 - duration_loss: 0.0222 - pitch_loss: 3.5188 - step_loss: 0.0486 - velocity_loss: 3.6443\n",
      "Epoch 45/100\n",
      "348/348 [==============================] - 6s 17ms/step - loss: 7.2168 - duration_loss: 0.0215 - pitch_loss: 3.5165 - step_loss: 0.0484 - velocity_loss: 3.6412\n",
      "Epoch 46/100\n",
      "348/348 [==============================] - 6s 17ms/step - loss: 7.2179 - duration_loss: 0.0244 - pitch_loss: 3.5189 - step_loss: 0.0485 - velocity_loss: 3.6383\n",
      "Epoch 47/100\n",
      "348/348 [==============================] - 6s 17ms/step - loss: 7.2046 - duration_loss: 0.0246 - pitch_loss: 3.5118 - step_loss: 0.0484 - velocity_loss: 3.6320\n",
      "Epoch 48/100\n",
      "348/348 [==============================] - 6s 17ms/step - loss: 7.2044 - duration_loss: 0.0251 - pitch_loss: 3.5120 - step_loss: 0.0483 - velocity_loss: 3.6315\n",
      "Epoch 49/100\n",
      "348/348 [==============================] - 6s 17ms/step - loss: 7.1958 - duration_loss: 0.0239 - pitch_loss: 3.5079 - step_loss: 0.0483 - velocity_loss: 3.6276\n",
      "Epoch 50/100\n",
      "348/348 [==============================] - 6s 17ms/step - loss: 7.1883 - duration_loss: 0.0231 - pitch_loss: 3.5047 - step_loss: 0.0483 - velocity_loss: 3.6238\n",
      "Epoch 51/100\n",
      "348/348 [==============================] - 6s 17ms/step - loss: 7.1835 - duration_loss: 0.0233 - pitch_loss: 3.5032 - step_loss: 0.0484 - velocity_loss: 3.6203\n",
      "Epoch 52/100\n",
      "348/348 [==============================] - 6s 17ms/step - loss: 7.1780 - duration_loss: 0.0244 - pitch_loss: 3.4998 - step_loss: 0.0482 - velocity_loss: 3.6178\n",
      "Epoch 53/100\n",
      "348/348 [==============================] - 6s 17ms/step - loss: 7.1760 - duration_loss: 0.0237 - pitch_loss: 3.4988 - step_loss: 0.0483 - velocity_loss: 3.6170\n",
      "Epoch 54/100\n",
      "348/348 [==============================] - 6s 17ms/step - loss: 7.1657 - duration_loss: 0.0217 - pitch_loss: 3.4973 - step_loss: 0.0482 - velocity_loss: 3.6094\n",
      "Epoch 55/100\n",
      "348/348 [==============================] - 5s 16ms/step - loss: 7.1607 - duration_loss: 0.0215 - pitch_loss: 3.4943 - step_loss: 0.0482 - velocity_loss: 3.6075\n",
      "Epoch 56/100\n",
      "348/348 [==============================] - 5s 16ms/step - loss: 7.1619 - duration_loss: 0.0222 - pitch_loss: 3.4929 - step_loss: 0.0483 - velocity_loss: 3.6096\n",
      "Epoch 57/100\n",
      "348/348 [==============================] - 5s 16ms/step - loss: 7.1658 - duration_loss: 0.0233 - pitch_loss: 3.4968 - step_loss: 0.0483 - velocity_loss: 3.6091\n",
      "Epoch 58/100\n",
      "348/348 [==============================] - 5s 16ms/step - loss: 7.1530 - duration_loss: 0.0225 - pitch_loss: 3.4902 - step_loss: 0.0485 - velocity_loss: 3.6032\n",
      "Epoch 59/100\n",
      "348/348 [==============================] - 5s 16ms/step - loss: 7.1481 - duration_loss: 0.0220 - pitch_loss: 3.4868 - step_loss: 0.0484 - velocity_loss: 3.6019\n",
      "Epoch 60/100\n",
      "348/348 [==============================] - 5s 16ms/step - loss: 7.1464 - duration_loss: 0.0214 - pitch_loss: 3.4847 - step_loss: 0.0484 - velocity_loss: 3.6026\n",
      "Epoch 61/100\n",
      "348/348 [==============================] - 5s 16ms/step - loss: 7.1415 - duration_loss: 0.0211 - pitch_loss: 3.4852 - step_loss: 0.0484 - velocity_loss: 3.5974\n",
      "Epoch 62/100\n",
      "348/348 [==============================] - 5s 16ms/step - loss: 7.1336 - duration_loss: 0.0205 - pitch_loss: 3.4812 - step_loss: 0.0484 - velocity_loss: 3.5938\n",
      "Epoch 63/100\n",
      "348/348 [==============================] - 5s 16ms/step - loss: 7.1259 - duration_loss: 0.0214 - pitch_loss: 3.4781 - step_loss: 0.0483 - velocity_loss: 3.5888\n",
      "Epoch 64/100\n",
      "348/348 [==============================] - 6s 16ms/step - loss: 7.1198 - duration_loss: 0.0205 - pitch_loss: 3.4741 - step_loss: 0.0483 - velocity_loss: 3.5872\n",
      "Epoch 65/100\n",
      "348/348 [==============================] - 5s 16ms/step - loss: 7.1094 - duration_loss: 0.0208 - pitch_loss: 3.4722 - step_loss: 0.0484 - velocity_loss: 3.5783\n",
      "Epoch 66/100\n",
      "348/348 [==============================] - 5s 16ms/step - loss: 7.1094 - duration_loss: 0.0207 - pitch_loss: 3.4716 - step_loss: 0.0484 - velocity_loss: 3.5791\n",
      "Epoch 67/100\n",
      "348/348 [==============================] - 5s 16ms/step - loss: 7.1079 - duration_loss: 0.0201 - pitch_loss: 3.4695 - step_loss: 0.0484 - velocity_loss: 3.5800\n",
      "Epoch 68/100\n",
      "348/348 [==============================] - 5s 16ms/step - loss: 7.1037 - duration_loss: 0.0208 - pitch_loss: 3.4691 - step_loss: 0.0484 - velocity_loss: 3.5758\n",
      "Epoch 69/100\n",
      "348/348 [==============================] - 6s 16ms/step - loss: 7.0983 - duration_loss: 0.0216 - pitch_loss: 3.4668 - step_loss: 0.0484 - velocity_loss: 3.5723\n",
      "Epoch 70/100\n",
      "348/348 [==============================] - 6s 17ms/step - loss: 7.0892 - duration_loss: 0.0207 - pitch_loss: 3.4615 - step_loss: 0.0483 - velocity_loss: 3.5690\n",
      "Epoch 71/100\n",
      "348/348 [==============================] - 6s 17ms/step - loss: 7.1059 - duration_loss: 0.0230 - pitch_loss: 3.4691 - step_loss: 0.0484 - velocity_loss: 3.5768\n",
      "Epoch 72/100\n",
      "348/348 [==============================] - 6s 17ms/step - loss: 7.1014 - duration_loss: 0.0229 - pitch_loss: 3.4681 - step_loss: 0.0484 - velocity_loss: 3.5734\n",
      "Epoch 73/100\n",
      "348/348 [==============================] - 6s 17ms/step - loss: 7.0851 - duration_loss: 0.0224 - pitch_loss: 3.4601 - step_loss: 0.0483 - velocity_loss: 3.5655\n",
      "Epoch 74/100\n",
      "348/348 [==============================] - 6s 17ms/step - loss: 7.0758 - duration_loss: 0.0221 - pitch_loss: 3.4553 - step_loss: 0.0483 - velocity_loss: 3.5611\n",
      "Epoch 75/100\n",
      "348/348 [==============================] - 6s 17ms/step - loss: 7.0844 - duration_loss: 0.0218 - pitch_loss: 3.4579 - step_loss: 0.0485 - velocity_loss: 3.5671\n",
      "Epoch 76/100\n",
      "348/348 [==============================] - 6s 17ms/step - loss: 7.0789 - duration_loss: 0.0213 - pitch_loss: 3.4558 - step_loss: 0.0484 - velocity_loss: 3.5641\n",
      "Epoch 77/100\n",
      "348/348 [==============================] - 6s 17ms/step - loss: 7.0734 - duration_loss: 0.0219 - pitch_loss: 3.4515 - step_loss: 0.0484 - velocity_loss: 3.5625\n",
      "Epoch 78/100\n",
      "348/348 [==============================] - 6s 17ms/step - loss: 7.0691 - duration_loss: 0.0219 - pitch_loss: 3.4499 - step_loss: 0.0484 - velocity_loss: 3.5599\n",
      "Epoch 79/100\n",
      "348/348 [==============================] - 6s 17ms/step - loss: 7.0643 - duration_loss: 0.0215 - pitch_loss: 3.4470 - step_loss: 0.0484 - velocity_loss: 3.5582\n",
      "Epoch 80/100\n",
      "348/348 [==============================] - 6s 17ms/step - loss: 7.0623 - duration_loss: 0.0218 - pitch_loss: 3.4452 - step_loss: 0.0484 - velocity_loss: 3.5577\n",
      "Epoch 81/100\n",
      "348/348 [==============================] - 6s 17ms/step - loss: 7.0563 - duration_loss: 0.0219 - pitch_loss: 3.4433 - step_loss: 0.0483 - velocity_loss: 3.5537\n",
      "Epoch 82/100\n",
      "348/348 [==============================] - 6s 17ms/step - loss: 7.0629 - duration_loss: 0.0216 - pitch_loss: 3.4466 - step_loss: 0.0483 - velocity_loss: 3.5573\n",
      "Epoch 83/100\n",
      "348/348 [==============================] - 6s 17ms/step - loss: 7.0580 - duration_loss: 0.0220 - pitch_loss: 3.4454 - step_loss: 0.0483 - velocity_loss: 3.5533\n",
      "Epoch 84/100\n",
      "348/348 [==============================] - 6s 17ms/step - loss: 7.0744 - duration_loss: 0.0232 - pitch_loss: 3.4457 - step_loss: 0.0483 - velocity_loss: 3.5689\n",
      "Epoch 85/100\n",
      "348/348 [==============================] - 6s 17ms/step - loss: 7.0735 - duration_loss: 0.0225 - pitch_loss: 3.4455 - step_loss: 0.0482 - velocity_loss: 3.5685\n",
      "Epoch 86/100\n",
      "347/348 [============================>.] - ETA: 0s - loss: 7.0571 - duration_loss: 0.0227 - pitch_loss: 3.4410 - step_loss: 0.0483 - velocity_loss: 3.5565Restoring model weights from the end of the best epoch: 81.\n",
      "348/348 [==============================] - 6s 17ms/step - loss: 7.0566 - duration_loss: 0.0227 - pitch_loss: 3.4406 - step_loss: 0.0482 - velocity_loss: 3.5564\n",
      "Epoch 86: early stopping\n"
     ]
    }
   ],
   "source": [
    "history = model.fit(\n",
    "    batched_indata,\n",
    "    epochs = 100,\n",
    "    callbacks = callbacks\n",
    ")\n"
   ]
  },
  {
   "cell_type": "code",
   "execution_count": 40,
   "metadata": {},
   "outputs": [
    {
     "ename": "NameError",
     "evalue": "name 'history' is not defined",
     "output_type": "error",
     "traceback": [
      "\u001b[0;31m---------------------------------------------------------------------------\u001b[0m",
      "\u001b[0;31mNameError\u001b[0m                                 Traceback (most recent call last)",
      "\u001b[1;32m/Users/rayzhang/Desktop/Code/LSTM-Composition/jupyter_notebooks/note_extract.ipynb Cell 19\u001b[0m in \u001b[0;36m<cell line: 1>\u001b[0;34m()\u001b[0m\n\u001b[0;32m----> <a href='vscode-notebook-cell:/Users/rayzhang/Desktop/Code/LSTM-Composition/jupyter_notebooks/note_extract.ipynb#ch0000025?line=0'>1</a>\u001b[0m \u001b[39mtype\u001b[39m(history)\n",
      "\u001b[0;31mNameError\u001b[0m: name 'history' is not defined"
     ]
    }
   ],
   "source": [
    "type(history)"
   ]
  },
  {
   "cell_type": "code",
   "execution_count": 75,
   "metadata": {},
   "outputs": [
    {
     "data": {
      "image/png": "[encoded data removed]",
      "text/plain": [
       "<Figure size 640x480 with 1 Axes>"
      ]
     },
     "metadata": {},
     "output_type": "display_data"
    }
   ],
   "source": [
    "plt.plot(history.epoch, history.history['loss'], label = 'Total Loss')\n",
    "plt.title('Total loss as a function of epochs')\n",
    "plt.show()"
   ]
  },
  {
   "cell_type": "code",
   "execution_count": 110,
   "metadata": {},
   "outputs": [],
   "source": [
    "def predict_note(notes: np.array, model: tf.keras.Model, temperature: int) -> int:\n",
    "\n",
    "    assert temperature > 0\n",
    "    inputs = tf.expand_dims(notes, 0)\n",
    "\n",
    "    predictions = model.predict(inputs)\n",
    "    pitch_logits = predictions['pitch']\n",
    "    velocity_logits = predictions['velocity']\n",
    "    step = predictions['step']\n",
    "    duration = predictions['duration']\n",
    "\n",
    "    pitch_logits /= temperature\n",
    "    velocity_logits /= temperature\n",
    "    pitch = tf.random.categorical(pitch_logits, num_samples = 1)\n",
    "    velocity = tf.random.categorical(velocity_logits, num_samples = 1)\n",
    "    velocity = tf.squeeze(velocity, axis = -1)\n",
    "    pitch = tf.squeeze(pitch, axis = -1) \n",
    "    step = tf.squeeze(step, axis = -1)\n",
    "    duration = tf.squeeze(duration, axis = -1)\n",
    "\n",
    "    return int(velocity), int(pitch),  float(step), float(duration)\n"
   ]
  },
  {
   "cell_type": "code",
   "execution_count": 117,
   "metadata": {},
   "outputs": [],
   "source": [
    "def note_to_midi(notes: pd.DataFrame, out_file: str, instrument_name: str) -> midi.PrettyMIDI:\n",
    "    ret_obj = midi.PrettyMIDI()\n",
    "    instrument = midi.Instrument(midi.instrument_name_to_program(instrument_name))\n",
    "\n",
    "    prev_start = 0\n",
    "    for i, note in notes.iterrows():\n",
    "        start = float(note['step']+ prev_start)\n",
    "        end = float(start + note['duration'])\n",
    "        note = midi.Note(\n",
    "            velocity = int(note['velocity']),\n",
    "            pitch = int(note['pitch']),\n",
    "            start = start,\n",
    "            end = end\n",
    "        )\n",
    "        instrument.notes.append(note)\n",
    "        prev_start = start \n",
    "    \n",
    "    ret_obj.instruments.append(instrument)\n",
    "    ret_obj.write(out_file)\n",
    "    return ret_obj \n"
   ]
  },
  {
   "cell_type": "code",
   "execution_count": 44,
   "metadata": {},
   "outputs": [
    {
     "ename": "NameError",
     "evalue": "name 'predict_note' is not defined",
     "output_type": "error",
     "traceback": [
      "\u001b[0;31m---------------------------------------------------------------------------\u001b[0m",
      "\u001b[0;31mNameError\u001b[0m                                 Traceback (most recent call last)",
      "\u001b[1;32m/Users/rayzhang/Desktop/Code/LSTM-Composition/jupyter_notebooks/note_extract.ipynb Cell 23\u001b[0m in \u001b[0;36m<cell line: 8>\u001b[0;34m()\u001b[0m\n\u001b[1;32m      <a href='vscode-notebook-cell:/Users/rayzhang/Desktop/Code/LSTM-Composition/jupyter_notebooks/note_extract.ipynb#ch0000021?line=6'>7</a>\u001b[0m prev_start \u001b[39m=\u001b[39m \u001b[39m0\u001b[39m\n\u001b[1;32m      <a href='vscode-notebook-cell:/Users/rayzhang/Desktop/Code/LSTM-Composition/jupyter_notebooks/note_extract.ipynb#ch0000021?line=7'>8</a>\u001b[0m \u001b[39mfor\u001b[39;00m _ \u001b[39min\u001b[39;00m \u001b[39mrange\u001b[39m(num_predictions):\n\u001b[0;32m----> <a href='vscode-notebook-cell:/Users/rayzhang/Desktop/Code/LSTM-Composition/jupyter_notebooks/note_extract.ipynb#ch0000021?line=8'>9</a>\u001b[0m     velocity, pitch, step, duration \u001b[39m=\u001b[39m predict_note(starter_notes_normed, model, temperature) \u001b[39m#Get predicted note from model \u001b[39;00m\n\u001b[1;32m     <a href='vscode-notebook-cell:/Users/rayzhang/Desktop/Code/LSTM-Composition/jupyter_notebooks/note_extract.ipynb#ch0000021?line=9'>10</a>\u001b[0m     start \u001b[39m=\u001b[39m prev_start \u001b[39m+\u001b[39m step \n\u001b[1;32m     <a href='vscode-notebook-cell:/Users/rayzhang/Desktop/Code/LSTM-Composition/jupyter_notebooks/note_extract.ipynb#ch0000021?line=10'>11</a>\u001b[0m     end \u001b[39m=\u001b[39m start \u001b[39m+\u001b[39m duration \n",
      "\u001b[0;31mNameError\u001b[0m: name 'predict_note' is not defined"
     ]
    }
   ],
   "source": [
    "temperature = 2\n",
    "num_predictions = 120 \n",
    "starter_notes = train_data[:seq_length][:]\n",
    "\n",
    "starter_notes_normed = starter_notes / np.array([128, 128, 1,1])\n",
    "composition = [] \n",
    "prev_start = 0\n",
    "for _ in range(num_predictions):\n",
    "    velocity, pitch, step, duration = predict_note(starter_notes_normed, model, temperature) #Get predicted note from model \n",
    "    start = prev_start + step \n",
    "    end = start + duration \n",
    "    input_note = (velocity, pitch, step, duration) #Store note value as a tuple\n",
    "    composition.append((*input_note, start, end)) #Append unpacked tuple, start and end data to composition list \n",
    "    np.delete(starter_notes_normed, 0, axis = 0) #Remove the first note of the sequence \n",
    "    np.append(starter_notes_normed, np.expand_dims(input_note, 0), axis = 0) #Append the newly predicted note to recycle \n",
    "    prev_start = start \n",
    "\n",
    "\n",
    "composition = pd.DataFrame(composition, columns = ['velocity', 'pitch', 'step', 'duration', 'start', 'end'])\n",
    "\n",
    "type(starter_notes)"
   ]
  },
  {
   "cell_type": "code",
   "execution_count": 118,
   "metadata": {},
   "outputs": [],
   "source": [
    "write_file = \"firstPiece.midi\"\n",
    "final_product = note_to_midi(composition, write_file, instrument_name = \"Acoustic Grand Piano\")"
   ]
  },
  {
   "cell_type": "code",
   "execution_count": null,
   "metadata": {},
   "outputs": [],
   "source": []
  }
 ],
 "metadata": {
  "kernelspec": {
   "display_name": "Python 3.10.4 ('gilbert')",
   "language": "python",
   "name": "python3"
  },
  "language_info": {
   "codemirror_mode": {
    "name": "ipython",
    "version": 3
   },
   "file_extension": ".py",
   "mimetype": "text/x-python",
   "name": "python",
   "nbconvert_exporter": "python",
   "pygments_lexer": "ipython3",
   "version": "3.10.4"
  },
  "orig_nbformat": 4,
  "vscode": {
   "interpreter": {
    "hash": "f3e0dbdab9ae6bc40b482f579ffcb0969ca4121db67304f38c6d13479eb2c164"
   }
  }
 },
 "nbformat": 4,
 "nbformat_minor": 2
}
